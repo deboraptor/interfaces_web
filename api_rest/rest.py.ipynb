{
 "cells": [
  {
   "cell_type": "markdown",
   "id": "20faac7c",
   "metadata": {
    "id": "20faac7c"
   },
   "source": [
    "<!-- LTeX: language=fr -->"
   ]
  },
  {
   "cell_type": "markdown",
   "id": "a44dbcd2",
   "metadata": {
    "id": "a44dbcd2"
   },
   "source": [
    "Cours 5 : consommer des API web\n",
    "================================\n",
    "\n",
    "**Loïc Grobol** [<lgrobol@parisnanterre.fr>](mailto:lgrobol@parisnanterre.fr)\n"
   ]
  },
  {
   "cell_type": "code",
   "execution_count": 1,
   "id": "c6eb1924",
   "metadata": {
    "id": "c6eb1924"
   },
   "outputs": [
    {
     "name": "stdout",
     "output_type": "stream",
     "text": [
      "Collecting requests\n",
      "  Using cached requests-2.32.3-py3-none-any.whl.metadata (4.6 kB)\n",
      "Collecting charset-normalizer<4,>=2 (from requests)\n",
      "  Using cached charset_normalizer-3.4.1-cp312-cp312-manylinux_2_17_x86_64.manylinux2014_x86_64.whl.metadata (35 kB)\n",
      "Collecting idna<4,>=2.5 (from requests)\n",
      "  Using cached idna-3.10-py3-none-any.whl.metadata (10 kB)\n",
      "Collecting urllib3<3,>=1.21.1 (from requests)\n",
      "  Using cached urllib3-2.3.0-py3-none-any.whl.metadata (6.5 kB)\n",
      "Collecting certifi>=2017.4.17 (from requests)\n",
      "  Using cached certifi-2024.12.14-py3-none-any.whl.metadata (2.3 kB)\n",
      "Using cached requests-2.32.3-py3-none-any.whl (64 kB)\n",
      "Using cached certifi-2024.12.14-py3-none-any.whl (164 kB)\n",
      "Using cached charset_normalizer-3.4.1-cp312-cp312-manylinux_2_17_x86_64.manylinux2014_x86_64.whl (145 kB)\n",
      "Using cached idna-3.10-py3-none-any.whl (70 kB)\n",
      "Using cached urllib3-2.3.0-py3-none-any.whl (128 kB)\n",
      "Installing collected packages: urllib3, idna, charset-normalizer, certifi, requests\n",
      "Successfully installed certifi-2024.12.14 charset-normalizer-3.4.1 idna-3.10 requests-2.32.3 urllib3-2.3.0\n",
      "Note: you may need to restart the kernel to use updated packages.\n"
     ]
    }
   ],
   "source": [
    "%pip install -U requests"
   ]
  },
  {
   "cell_type": "markdown",
   "id": "ee999305",
   "metadata": {
    "id": "ee999305"
   },
   "source": [
    "Ce cours est partiellement adapté du tutoriel [Python and REST\n",
    "APIs](https://realpython.com/api-integration-in-python/) de Real Python."
   ]
  },
  {
   "cell_type": "markdown",
   "id": "59b0c123",
   "metadata": {
    "id": "59b0c123"
   },
   "source": [
    "## API ?\n",
    "\n",
    "***A**pplication **P**rogramming **I**nterface*, en français parfois « interface de programmation\n",
    "d’applications » mais surtout API \\[eɪpiˈaɪ\\]. À ne pas confondre avec\n",
    "l'[API](https://www.internationalphoneticalphabet.org) des phonéticiens (puisqu'en anglais, c'est\n",
    "l'IPA, à ne pas confondre avec les bières enrichies en houblon \\[vous suivez ?\\]).\n",
    "\n",
    "Il s'agit d'*interfaces* de communications entre *applications*. À la différence des interfaces\n",
    "humain⋅es – machines (même si les deux classes ne sont pas disjointes, d'ailleurs est-ce que vous\n",
    "voyez des exemples qui sont les deux ?). Autrement dit, une API c'est la surface d'une application,\n",
    "son panneau de commande accessible par d'autres applications. On suppose en général que ces\n",
    "interfaces sont\n",
    "\n",
    "- Publiques\n",
    "- Documentées\n",
    "- Stables\n",
    "- Opaques\n",
    "\n",
    "Le dernier point, l'*opacité* rejoint les considérations de séparation des préoccupations qu'on a\n",
    "déjà abordées plusieurs fois : quand j'accède à une application via son API, je ne veux pas avoir à\n",
    "me soucier de ce qui se passe en interne. Tout ce qui compte pour moi, c'est ce que j'y mets et ce\n",
    "que j'en récupère.\n",
    "\n",
    "Point vocabulaire : si une application A utilise l'API d'une application B, on dira que A est le\n",
    "*client* et B le *serveur*."
   ]
  },
  {
   "cell_type": "markdown",
   "id": "d298b722",
   "metadata": {
    "id": "d298b722"
   },
   "source": [
    "## APIs web\n",
    "\n",
    "Une API web, c'est une API à laquelle on accède via le web.\n",
    "\n",
    "Voilà, le cours est fini, joyeux Noël.\n",
    "\n",
    "En pratique, on parle d'API web quand des services applicatifs sont accessibles via des requêtes\n",
    "HTTP. Par exemple celle de GitHub, à laquelle on accède à <https://api.github.com>. Regardez ce qui\n",
    "se passe par exemple avec une requête `GET` sur le point d'accès (*endpoint*)\n",
    "<https://api.github.com/users/loicgrobol>"
   ]
  },
  {
   "cell_type": "code",
   "execution_count": 21,
   "id": "1e0fb499",
   "metadata": {
    "colab": {
     "base_uri": "https://localhost:8080/"
    },
    "executionInfo": {
     "elapsed": 590,
     "status": "ok",
     "timestamp": 1733230067857,
     "user": {
      "displayName": "Débora Vd'z",
      "userId": "12325144186401523760"
     },
     "user_tz": -60
    },
    "id": "1e0fb499",
    "outputId": "745138f9-32a6-490f-e931-a21376d779ef"
   },
   "outputs": [
    {
     "name": "stdout",
     "output_type": "stream",
     "text": [
      "/bin/bash: ligne 1: curl : commande introuvable\n"
     ]
    }
   ],
   "source": [
    "!curl https://api.github.com/users/loicgrobol"
   ]
  },
  {
   "cell_type": "code",
   "execution_count": 5,
   "id": "e479b137",
   "metadata": {},
   "outputs": [
    {
     "name": "stdout",
     "output_type": "stream",
     "text": [
      "Collecting httpx\n",
      "  Using cached httpx-0.28.1-py3-none-any.whl.metadata (7.1 kB)\n",
      "Collecting anyio (from httpx)\n",
      "  Using cached anyio-4.8.0-py3-none-any.whl.metadata (4.6 kB)\n",
      "Requirement already satisfied: certifi in /home/debora/Documents/scripts/interfaces_web/.venv/interfaces-web/lib/python3.12/site-packages (from httpx) (2024.12.14)\n",
      "Collecting httpcore==1.* (from httpx)\n",
      "  Using cached httpcore-1.0.7-py3-none-any.whl.metadata (21 kB)\n",
      "Requirement already satisfied: idna in /home/debora/Documents/scripts/interfaces_web/.venv/interfaces-web/lib/python3.12/site-packages (from httpx) (3.10)\n",
      "Collecting h11<0.15,>=0.13 (from httpcore==1.*->httpx)\n",
      "  Using cached h11-0.14.0-py3-none-any.whl.metadata (8.2 kB)\n",
      "Collecting sniffio>=1.1 (from anyio->httpx)\n",
      "  Using cached sniffio-1.3.1-py3-none-any.whl.metadata (3.9 kB)\n",
      "Collecting typing_extensions>=4.5 (from anyio->httpx)\n",
      "  Using cached typing_extensions-4.12.2-py3-none-any.whl.metadata (3.0 kB)\n",
      "Using cached httpx-0.28.1-py3-none-any.whl (73 kB)\n",
      "Using cached httpcore-1.0.7-py3-none-any.whl (78 kB)\n",
      "Using cached anyio-4.8.0-py3-none-any.whl (96 kB)\n",
      "Using cached h11-0.14.0-py3-none-any.whl (58 kB)\n",
      "Using cached sniffio-1.3.1-py3-none-any.whl (10 kB)\n",
      "Using cached typing_extensions-4.12.2-py3-none-any.whl (37 kB)\n",
      "Installing collected packages: typing_extensions, sniffio, h11, httpcore, anyio, httpx\n",
      "Successfully installed anyio-4.8.0 h11-0.14.0 httpcore-1.0.7 httpx-0.28.1 sniffio-1.3.1 typing_extensions-4.12.2\n",
      "Note: you may need to restart the kernel to use updated packages.\n"
     ]
    }
   ],
   "source": [
    "%pip install httpx"
   ]
  },
  {
   "cell_type": "code",
   "execution_count": 7,
   "id": "8b8f7ea8",
   "metadata": {
    "colab": {
     "base_uri": "https://localhost:8080/"
    },
    "executionInfo": {
     "elapsed": 1184,
     "status": "ok",
     "timestamp": 1733230359683,
     "user": {
      "displayName": "Débora Vd'z",
      "userId": "12325144186401523760"
     },
     "user_tz": -60
    },
    "id": "8b8f7ea8",
    "outputId": "5584f017-009e-4474-f445-cd153daacb66"
   },
   "outputs": [
    {
     "name": "stdout",
     "output_type": "stream",
     "text": [
      "{\"login\":\"LoicGrobol\",\"id\":14248012,\"node_id\":\"MDQ6VXNlcjE0MjQ4MDEy\",\"avatar_url\":\"https://avatars.githubusercontent.com/u/14248012?v=4\",\"gravatar_id\":\"\",\"url\":\"https://api.github.com/users/LoicGrobol\",\"html_url\":\"https://github.com/LoicGrobol\",\"followers_url\":\"https://api.github.com/users/LoicGrobol/followers\",\"following_url\":\"https://api.github.com/users/LoicGrobol/following{/other_user}\",\"gists_url\":\"https://api.github.com/users/LoicGrobol/gists{/gist_id}\",\"starred_url\":\"https://api.github.com/users/LoicGrobol/starred{/owner}{/repo}\",\"subscriptions_url\":\"https://api.github.com/users/LoicGrobol/subscriptions\",\"organizations_url\":\"https://api.github.com/users/LoicGrobol/orgs\",\"repos_url\":\"https://api.github.com/users/LoicGrobol/repos\",\"events_url\":\"https://api.github.com/users/LoicGrobol/events{/privacy}\",\"received_events_url\":\"https://api.github.com/users/LoicGrobol/received_events\",\"type\":\"User\",\"user_view_type\":\"public\",\"site_admin\":false,\"name\":\"L. Grobol\",\"company\":\"Université Paris Nanterre\",\"blog\":\"https://lgrobol.bzh\",\"location\":\"Paris, France\",\"email\":null,\"hireable\":null,\"bio\":null,\"twitter_username\":null,\"public_repos\":85,\"public_gists\":1,\"followers\":58,\"following\":22,\"created_at\":\"2015-09-12T11:19:30Z\",\"updated_at\":\"2025-01-24T10:53:23Z\"}\n"
     ]
    }
   ],
   "source": [
    "import httpx\n",
    "print(httpx.get(\"https://api.github.com/users/loicgrobol\").text)"
   ]
  },
  {
   "cell_type": "markdown",
   "id": "cf0758e7",
   "metadata": {
    "id": "cf0758e7"
   },
   "source": [
    "Le serveur est alors littéralement un serveur web, les concepts s'alignent !\n",
    "\n",
    "Le fait de passer par HTTP pour faire communiquer des applications a bien des avantages :\n",
    "\n",
    "- On peut communiquer via Internet (HTTP est prévu pour ça) entre machines très distantes\n",
    "- On peut bénéficier de toutes les technologies et infrastructures développées pour le web\n",
    "  (matérielles, logicielles et humaines) qui du fait de leur omniprésence sont très optimisées\n",
    "- HTTP propose tout un tas d'outils intéressants\n",
    "  - Les URL avoir des chemins d'accès hiérarchisés\n",
    "  - Les systèmes d'authentification (sessions, cookies…)\n",
    "  - La transmission bidirectionnelle de données arbitraires (via les *payloads*)"
   ]
  },
  {
   "cell_type": "markdown",
   "id": "23f8fa9a",
   "metadata": {
    "id": "23f8fa9a"
   },
   "source": [
    "## REST\n",
    "\n",
    "_**Re**presentational **s**tate **t**ransfer_ est une méthodologie de conception d'API web, pensée\n",
    "pour demander le moins de *couplage* possible entre une application client et le serveur à l'API\n",
    "duquel elle accède. Autrement dit le client n'a besoin que très peu de connaissance du\n",
    "fonctionnement du serveur et vice-versa.\n",
    "\n",
    "Les principes (un peu simplifiés) de REST sont\n",
    "\n",
    "- L'absence de mémoire (*statelessness*) : le serveur ne doit pas garder en mémoire de trace des\n",
    "  requêtes du client.\n",
    "- La séparation du client et du serveur : les deux doivent être suffisamment découplés pour pouvoir\n",
    "  être modifiés sans conséquence de l'un sur l'autre (tant que l'API ne change pas)\n",
    "- La possibilité de mettre les requêtes en cache (*cacheability*) : les données renvoyées pour une\n",
    "  requête données doivent être rigoureusement identique d'une requête sur l'autre afin que le client\n",
    "  comme le serveur puissent les stocker en mémoire cache.\n",
    "- L'uniformité des interfaces :\n",
    "  - L'identification des ressources se fait par un identifiant indépendant de leurs représentations\n",
    "  - La représentation d'une ressource doit être suffisante pour la mettre à jour ou la supprimer du\n",
    "    serveur\n",
    "  - Chaque message doit contenir une description de la façon dont il doit être lu\n",
    "- L'indépendance d'accès (*layered system*) : le comportement de l'interface doit être identique\n",
    "  quel que soit le moyen utilisé pour y accéder. En particulier, il ne doit pas changer si cet accès\n",
    "  passe par des *proxies*."
   ]
  },
  {
   "cell_type": "markdown",
   "id": "ad0423a2",
   "metadata": {
    "id": "ad0423a2"
   },
   "source": [
    "## Accéder à des API\n",
    "\n",
    "On l'a déjà fait [plusieurs](../01-internet/internets.py.md) [fois](../03-httpx/httpx.py.md) !\n",
    "\n",
    "On a dit qu'il suffisait de faire des requêtes HTTP et ça on sait déjà faire :"
   ]
  },
  {
   "cell_type": "code",
   "execution_count": 8,
   "id": "ef648aa8",
   "metadata": {
    "colab": {
     "base_uri": "https://localhost:8080/"
    },
    "executionInfo": {
     "elapsed": 342,
     "status": "ok",
     "timestamp": 1733230809780,
     "user": {
      "displayName": "Débora Vd'z",
      "userId": "12325144186401523760"
     },
     "user_tz": -60
    },
    "id": "ef648aa8",
    "outputId": "77d60304-5739-4d6c-db92-db7d4bdaf2de"
   },
   "outputs": [
    {
     "name": "stdout",
     "output_type": "stream",
     "text": [
      "{\n",
      "  \"postId\": 1,\n",
      "  \"id\": 1,\n",
      "  \"name\": \"id labore ex et quam laborum\",\n",
      "  \"email\": \"Eliseo@gardner.biz\",\n",
      "  \"body\": \"laudantium enim quasi est quidem magnam voluptate ipsam eos\\ntempora quo necessitatibus\\ndolor quam autem quasi\\nreiciendis et nam sapiente accusantium\"\n",
      "}\n"
     ]
    }
   ],
   "source": [
    "print(httpx.get(\"https://jsonplaceholder.typicode.com/comments/1\").text)"
   ]
  },
  {
   "cell_type": "markdown",
   "id": "5cc2697e",
   "metadata": {
    "id": "5cc2697e"
   },
   "source": [
    "Par contre, on a pas reparlé de ce format étrange.\n",
    "\n",
    "Ça ressemble à la représentation d'un `dict`\n"
   ]
  },
  {
   "cell_type": "code",
   "execution_count": 9,
   "id": "4fb48f66",
   "metadata": {
    "colab": {
     "base_uri": "https://localhost:8080/"
    },
    "executionInfo": {
     "elapsed": 379,
     "status": "ok",
     "timestamp": 1733230845092,
     "user": {
      "displayName": "Débora Vd'z",
      "userId": "12325144186401523760"
     },
     "user_tz": -60
    },
    "id": "4fb48f66",
    "outputId": "68b14c99-7ce5-4a3f-96a4-cd6e8cca4829"
   },
   "outputs": [
    {
     "data": {
      "text/plain": [
       "{'postId': 1,\n",
       " 'id': 1,\n",
       " 'name': 'id labore ex et quam laborum',\n",
       " 'email': 'Eliseo@gardner.biz',\n",
       " 'body': 'laudantium enim quasi est quidem magnam voluptate ipsam eos\\ntempora quo necessitatibus\\ndolor quam autem quasi\\nreiciendis et nam sapiente accusantium'}"
      ]
     },
     "execution_count": 9,
     "metadata": {},
     "output_type": "execute_result"
    }
   ],
   "source": [
    "import ast\n",
    "ast.literal_eval(httpx.get(\"https://jsonplaceholder.typicode.com/comments/1\").text)"
   ]
  },
  {
   "cell_type": "markdown",
   "id": "ea12dee2",
   "metadata": {
    "id": "ea12dee2"
   },
   "source": [
    "Mais ce n'est pas tout à fait ça"
   ]
  },
  {
   "cell_type": "code",
   "execution_count": 10,
   "id": "26c13483",
   "metadata": {
    "colab": {
     "base_uri": "https://localhost:8080/",
     "height": 321
    },
    "executionInfo": {
     "elapsed": 361,
     "status": "error",
     "timestamp": 1733230935794,
     "user": {
      "displayName": "Débora Vd'z",
      "userId": "12325144186401523760"
     },
     "user_tz": -60
    },
    "id": "26c13483",
    "outputId": "f1c2a3f3-a22a-4e3c-b58e-b8bec48197fe"
   },
   "outputs": [
    {
     "ename": "ValueError",
     "evalue": "malformed node or string on line 5: <ast.Name object at 0x7d6534dbbb50>",
     "output_type": "error",
     "traceback": [
      "\u001b[0;31m---------------------------------------------------------------------------\u001b[0m",
      "\u001b[0;31mValueError\u001b[0m                                Traceback (most recent call last)",
      "Cell \u001b[0;32mIn[10], line 1\u001b[0m\n\u001b[0;32m----> 1\u001b[0m \u001b[43mast\u001b[49m\u001b[38;5;241;43m.\u001b[39;49m\u001b[43mliteral_eval\u001b[49m\u001b[43m(\u001b[49m\u001b[43mhttpx\u001b[49m\u001b[38;5;241;43m.\u001b[39;49m\u001b[43mget\u001b[49m\u001b[43m(\u001b[49m\u001b[38;5;124;43m\"\u001b[39;49m\u001b[38;5;124;43mhttps://jsonplaceholder.typicode.com/todos/1\u001b[39;49m\u001b[38;5;124;43m\"\u001b[39;49m\u001b[43m)\u001b[49m\u001b[38;5;241;43m.\u001b[39;49m\u001b[43mtext\u001b[49m\u001b[43m)\u001b[49m\n",
      "File \u001b[0;32m/usr/lib/python3.12/ast.py:112\u001b[0m, in \u001b[0;36mliteral_eval\u001b[0;34m(node_or_string)\u001b[0m\n\u001b[1;32m    110\u001b[0m                 \u001b[38;5;28;01mreturn\u001b[39;00m left \u001b[38;5;241m-\u001b[39m right\n\u001b[1;32m    111\u001b[0m     \u001b[38;5;28;01mreturn\u001b[39;00m _convert_signed_num(node)\n\u001b[0;32m--> 112\u001b[0m \u001b[38;5;28;01mreturn\u001b[39;00m \u001b[43m_convert\u001b[49m\u001b[43m(\u001b[49m\u001b[43mnode_or_string\u001b[49m\u001b[43m)\u001b[49m\n",
      "File \u001b[0;32m/usr/lib/python3.12/ast.py:101\u001b[0m, in \u001b[0;36mliteral_eval.<locals>._convert\u001b[0;34m(node)\u001b[0m\n\u001b[1;32m     99\u001b[0m     \u001b[38;5;28;01mif\u001b[39;00m \u001b[38;5;28mlen\u001b[39m(node\u001b[38;5;241m.\u001b[39mkeys) \u001b[38;5;241m!=\u001b[39m \u001b[38;5;28mlen\u001b[39m(node\u001b[38;5;241m.\u001b[39mvalues):\n\u001b[1;32m    100\u001b[0m         _raise_malformed_node(node)\n\u001b[0;32m--> 101\u001b[0m     \u001b[38;5;28;01mreturn\u001b[39;00m \u001b[38;5;28;43mdict\u001b[39;49m\u001b[43m(\u001b[49m\u001b[38;5;28;43mzip\u001b[39;49m\u001b[43m(\u001b[49m\u001b[38;5;28;43mmap\u001b[39;49m\u001b[43m(\u001b[49m\u001b[43m_convert\u001b[49m\u001b[43m,\u001b[49m\u001b[43m \u001b[49m\u001b[43mnode\u001b[49m\u001b[38;5;241;43m.\u001b[39;49m\u001b[43mkeys\u001b[49m\u001b[43m)\u001b[49m\u001b[43m,\u001b[49m\n\u001b[1;32m    102\u001b[0m \u001b[43m                    \u001b[49m\u001b[38;5;28;43mmap\u001b[39;49m\u001b[43m(\u001b[49m\u001b[43m_convert\u001b[49m\u001b[43m,\u001b[49m\u001b[43m \u001b[49m\u001b[43mnode\u001b[49m\u001b[38;5;241;43m.\u001b[39;49m\u001b[43mvalues\u001b[49m\u001b[43m)\u001b[49m\u001b[43m)\u001b[49m\u001b[43m)\u001b[49m\n\u001b[1;32m    103\u001b[0m \u001b[38;5;28;01melif\u001b[39;00m \u001b[38;5;28misinstance\u001b[39m(node, BinOp) \u001b[38;5;129;01mand\u001b[39;00m \u001b[38;5;28misinstance\u001b[39m(node\u001b[38;5;241m.\u001b[39mop, (Add, Sub)):\n\u001b[1;32m    104\u001b[0m     left \u001b[38;5;241m=\u001b[39m _convert_signed_num(node\u001b[38;5;241m.\u001b[39mleft)\n",
      "File \u001b[0;32m/usr/lib/python3.12/ast.py:111\u001b[0m, in \u001b[0;36mliteral_eval.<locals>._convert\u001b[0;34m(node)\u001b[0m\n\u001b[1;32m    109\u001b[0m         \u001b[38;5;28;01melse\u001b[39;00m:\n\u001b[1;32m    110\u001b[0m             \u001b[38;5;28;01mreturn\u001b[39;00m left \u001b[38;5;241m-\u001b[39m right\n\u001b[0;32m--> 111\u001b[0m \u001b[38;5;28;01mreturn\u001b[39;00m \u001b[43m_convert_signed_num\u001b[49m\u001b[43m(\u001b[49m\u001b[43mnode\u001b[49m\u001b[43m)\u001b[49m\n",
      "File \u001b[0;32m/usr/lib/python3.12/ast.py:85\u001b[0m, in \u001b[0;36mliteral_eval.<locals>._convert_signed_num\u001b[0;34m(node)\u001b[0m\n\u001b[1;32m     83\u001b[0m     \u001b[38;5;28;01melse\u001b[39;00m:\n\u001b[1;32m     84\u001b[0m         \u001b[38;5;28;01mreturn\u001b[39;00m \u001b[38;5;241m-\u001b[39m operand\n\u001b[0;32m---> 85\u001b[0m \u001b[38;5;28;01mreturn\u001b[39;00m \u001b[43m_convert_num\u001b[49m\u001b[43m(\u001b[49m\u001b[43mnode\u001b[49m\u001b[43m)\u001b[49m\n",
      "File \u001b[0;32m/usr/lib/python3.12/ast.py:76\u001b[0m, in \u001b[0;36mliteral_eval.<locals>._convert_num\u001b[0;34m(node)\u001b[0m\n\u001b[1;32m     74\u001b[0m \u001b[38;5;28;01mdef\u001b[39;00m\u001b[38;5;250m \u001b[39m\u001b[38;5;21m_convert_num\u001b[39m(node):\n\u001b[1;32m     75\u001b[0m     \u001b[38;5;28;01mif\u001b[39;00m \u001b[38;5;129;01mnot\u001b[39;00m \u001b[38;5;28misinstance\u001b[39m(node, Constant) \u001b[38;5;129;01mor\u001b[39;00m \u001b[38;5;28mtype\u001b[39m(node\u001b[38;5;241m.\u001b[39mvalue) \u001b[38;5;129;01mnot\u001b[39;00m \u001b[38;5;129;01min\u001b[39;00m (\u001b[38;5;28mint\u001b[39m, \u001b[38;5;28mfloat\u001b[39m, \u001b[38;5;28mcomplex\u001b[39m):\n\u001b[0;32m---> 76\u001b[0m         \u001b[43m_raise_malformed_node\u001b[49m\u001b[43m(\u001b[49m\u001b[43mnode\u001b[49m\u001b[43m)\u001b[49m\n\u001b[1;32m     77\u001b[0m     \u001b[38;5;28;01mreturn\u001b[39;00m node\u001b[38;5;241m.\u001b[39mvalue\n",
      "File \u001b[0;32m/usr/lib/python3.12/ast.py:73\u001b[0m, in \u001b[0;36mliteral_eval.<locals>._raise_malformed_node\u001b[0;34m(node)\u001b[0m\n\u001b[1;32m     71\u001b[0m \u001b[38;5;28;01mif\u001b[39;00m lno \u001b[38;5;241m:=\u001b[39m \u001b[38;5;28mgetattr\u001b[39m(node, \u001b[38;5;124m'\u001b[39m\u001b[38;5;124mlineno\u001b[39m\u001b[38;5;124m'\u001b[39m, \u001b[38;5;28;01mNone\u001b[39;00m):\n\u001b[1;32m     72\u001b[0m     msg \u001b[38;5;241m+\u001b[39m\u001b[38;5;241m=\u001b[39m \u001b[38;5;124mf\u001b[39m\u001b[38;5;124m'\u001b[39m\u001b[38;5;124m on line \u001b[39m\u001b[38;5;132;01m{\u001b[39;00mlno\u001b[38;5;132;01m}\u001b[39;00m\u001b[38;5;124m'\u001b[39m\n\u001b[0;32m---> 73\u001b[0m \u001b[38;5;28;01mraise\u001b[39;00m \u001b[38;5;167;01mValueError\u001b[39;00m(msg \u001b[38;5;241m+\u001b[39m \u001b[38;5;124mf\u001b[39m\u001b[38;5;124m'\u001b[39m\u001b[38;5;124m: \u001b[39m\u001b[38;5;132;01m{\u001b[39;00mnode\u001b[38;5;132;01m!r}\u001b[39;00m\u001b[38;5;124m'\u001b[39m)\n",
      "\u001b[0;31mValueError\u001b[0m: malformed node or string on line 5: <ast.Name object at 0x7d6534dbbb50>"
     ]
    }
   ],
   "source": [
    "ast.literal_eval(httpx.get(\"https://jsonplaceholder.typicode.com/todos/1\").text)"
   ]
  },
  {
   "cell_type": "markdown",
   "id": "1e73d666",
   "metadata": {
    "id": "1e73d666"
   },
   "source": [
    "Tiens, d'ailleurs, est-ce que vous voyez le problème ?"
   ]
  },
  {
   "cell_type": "code",
   "execution_count": 11,
   "id": "d964f4dc",
   "metadata": {
    "colab": {
     "base_uri": "https://localhost:8080/"
    },
    "executionInfo": {
     "elapsed": 440,
     "status": "ok",
     "timestamp": 1733231008244,
     "user": {
      "displayName": "Débora Vd'z",
      "userId": "12325144186401523760"
     },
     "user_tz": -60
    },
    "id": "d964f4dc",
    "outputId": "bfb73680-5491-4416-b164-621b020389e0"
   },
   "outputs": [
    {
     "name": "stdout",
     "output_type": "stream",
     "text": [
      "{\n",
      "  \"userId\": 1,\n",
      "  \"id\": 1,\n",
      "  \"title\": \"delectus aut autem\",\n",
      "  \"completed\": false\n",
      "}\n"
     ]
    }
   ],
   "source": [
    "print(httpx.get(\"https://jsonplaceholder.typicode.com/todos/1\").text)"
   ]
  },
  {
   "cell_type": "markdown",
   "id": "81313e6a",
   "metadata": {
    "id": "81313e6a"
   },
   "source": [
    "## JSON\n",
    "\n",
    "_**J**ava**S**cript **O**bject **N**otation_. Comme son nom l'indique, c'est (à de tout, tout petits\n",
    "détails près) la syntaxe pour noter des objets en JavaScript.\n",
    "\n",
    "C'est très très très proche de la syntaxe des `dict` littéraux en Python. Sauf quand c'est\n",
    "différent.\n",
    "\n",
    "Comme d'habitude [MDN](https://developer.mozilla.org/en-US/docs/Learn/JavaScript/Objects/JSON) est\n",
    "notre meilleur⋅e ami⋅e. Il y a aussi [une description formelle\n",
    "standard](https://www.rfc-editor.org/info/std90).\n",
    "\n",
    "Sa (relative) simplicité de lecture et d'écriture en a fait le format privilégié d'échange de\n",
    "données pour les API web, puis petit à petit aussi le format standard *de facto* pour énormément\n",
    "d'usages.\n",
    "\n",
    "C'est facile de le parser en Python et de récupérer un `dict` avec le module natif [json](https://docs.python.org/fr/3/library/json.html)"
   ]
  },
  {
   "cell_type": "code",
   "execution_count": 12,
   "id": "67a5422b",
   "metadata": {
    "colab": {
     "base_uri": "https://localhost:8080/"
    },
    "executionInfo": {
     "elapsed": 772,
     "status": "ok",
     "timestamp": 1733231191671,
     "user": {
      "displayName": "Débora Vd'z",
      "userId": "12325144186401523760"
     },
     "user_tz": -60
    },
    "id": "67a5422b",
    "outputId": "a594c589-34a4-4055-fba1-45b56e3c7b86"
   },
   "outputs": [
    {
     "data": {
      "text/plain": [
       "{'userId': 1, 'id': 1, 'title': 'delectus aut autem', 'completed': False}"
      ]
     },
     "execution_count": 12,
     "metadata": {},
     "output_type": "execute_result"
    }
   ],
   "source": [
    "import json\n",
    "data_as_a_str = httpx.get(\"https://jsonplaceholder.typicode.com/todos/1\").text\n",
    "data_as_a_dict = json.loads(data_as_a_str)\n",
    "data_as_a_dict"
   ]
  },
  {
   "cell_type": "markdown",
   "id": "c072fce7",
   "metadata": {
    "id": "c072fce7"
   },
   "source": [
    "Et la conversion dans l'autre sens n'est pas compliquée non plus"
   ]
  },
  {
   "cell_type": "code",
   "execution_count": 13,
   "id": "ae243b5a",
   "metadata": {
    "colab": {
     "base_uri": "https://localhost:8080/",
     "height": 53
    },
    "executionInfo": {
     "elapsed": 434,
     "status": "ok",
     "timestamp": 1733231200542,
     "user": {
      "displayName": "Débora Vd'z",
      "userId": "12325144186401523760"
     },
     "user_tz": -60
    },
    "id": "ae243b5a",
    "outputId": "0138d0f3-7359-44ea-fcd8-592db2dbcd0e"
   },
   "outputs": [
    {
     "data": {
      "text/plain": [
       "'{\"name\": \"Launcelot\", \"quest\": \"Seek the Holy Grail\", \"sparrows seen\": 2, \"fears\": [], \"married\": false, \"0\": null}'"
      ]
     },
     "execution_count": 13,
     "metadata": {},
     "output_type": "execute_result"
    }
   ],
   "source": [
    "d = {\"name\": \"Launcelot\", \"quest\": \"Seek the Holy Grail\", \"sparrows seen\": 2, \"fears\": [], \"married\": False, 0: None}\n",
    "s = json.dumps(d)\n",
    "s"
   ]
  },
  {
   "cell_type": "markdown",
   "id": "46e11476",
   "metadata": {
    "id": "46e11476"
   },
   "source": [
    "En plus `httpx` le fait pour nous"
   ]
  },
  {
   "cell_type": "code",
   "execution_count": 14,
   "id": "526e3189",
   "metadata": {
    "colab": {
     "base_uri": "https://localhost:8080/"
    },
    "executionInfo": {
     "elapsed": 357,
     "status": "ok",
     "timestamp": 1733231403384,
     "user": {
      "displayName": "Débora Vd'z",
      "userId": "12325144186401523760"
     },
     "user_tz": -60
    },
    "id": "526e3189",
    "outputId": "397b3cb1-1d37-4238-c643-3678a1c638f8"
   },
   "outputs": [
    {
     "data": {
      "text/plain": [
       "{'userId': 1, 'id': 1, 'title': 'delectus aut autem', 'completed': False}"
      ]
     },
     "execution_count": 14,
     "metadata": {},
     "output_type": "execute_result"
    }
   ],
   "source": [
    "data_as_a_dict = httpx.get(\"https://jsonplaceholder.typicode.com/todos/1\").json()\n",
    "data_as_a_dict"
   ]
  },
  {
   "cell_type": "markdown",
   "id": "01dd7d4f",
   "metadata": {
    "id": "01dd7d4f"
   },
   "source": [
    "Même pas besoin de se fatiguer.\n",
    "\n",
    "Si on veut *envoyer* du JSON, il y a une subtilité :"
   ]
  },
  {
   "cell_type": "code",
   "execution_count": 15,
   "id": "b997a76b",
   "metadata": {
    "colab": {
     "base_uri": "https://localhost:8080/"
    },
    "executionInfo": {
     "elapsed": 517,
     "status": "ok",
     "timestamp": 1733231471094,
     "user": {
      "displayName": "Débora Vd'z",
      "userId": "12325144186401523760"
     },
     "user_tz": -60
    },
    "id": "b997a76b",
    "outputId": "0b4b63b0-c322-428c-83be-b4a76f4d2c3c"
   },
   "outputs": [
    {
     "data": {
      "text/plain": [
       "{'userId': 1, 'title': 'Buy milk', 'completed': False, 'id': 201}"
      ]
     },
     "execution_count": 15,
     "metadata": {},
     "output_type": "execute_result"
    }
   ],
   "source": [
    "response = httpx.post(\n",
    "  \"https://jsonplaceholder.typicode.com/todos\",\n",
    "  json={\"userId\": 1, \"title\": \"Buy milk\", \"completed\": False}\n",
    ")\n",
    "response.json()"
   ]
  },
  {
   "cell_type": "markdown",
   "id": "5eb70c82",
   "metadata": {
    "id": "5eb70c82"
   },
   "source": [
    "Il faut passer les données au paramètre `json` de `requests.post` et non `data` (ou alors il faut\n",
    "lui passer sous forme de chaîne de caractère et avoir dans les *headers* `\"Content-Type\"` qui vaut\n",
    "`\"application/json\"`)."
   ]
  },
  {
   "cell_type": "markdown",
   "id": "d34f2edf",
   "metadata": {
    "id": "d34f2edf"
   },
   "source": [
    "Attention, si vous essayez de faire ça dans un `get`, httx ne va pas être d'accord : ce n'est pas une méthode HTTP avec laquelle on est censé envoyer des données."
   ]
  },
  {
   "cell_type": "markdown",
   "id": "f9be7fff",
   "metadata": {
    "id": "f9be7fff"
   },
   "source": [
    "## 🌐 Exo 🌐"
   ]
  },
  {
   "cell_type": "markdown",
   "id": "3d3ba62a",
   "metadata": {
    "id": "3d3ba62a"
   },
   "source": [
    "### Le cheeseshop\n",
    "\n",
    "En utilisant l'[API de PyPI](https://docs.pypi.org/api/json/), écrire un script\n",
    "qui prend en argument un nom de package et affiche (si un tel package existe) les noms et emails des\n",
    "auteurices de package et la date de la dernière *release*;"
   ]
  },
  {
   "cell_type": "code",
   "execution_count": 29,
   "id": "Z4ocJKYgt407",
   "metadata": {
    "colab": {
     "base_uri": "https://localhost:8080/"
    },
    "executionInfo": {
     "elapsed": 652,
     "status": "ok",
     "timestamp": 1733241946028,
     "user": {
      "displayName": "Débora Vd'z",
      "userId": "12325144186401523760"
     },
     "user_tz": -60
    },
    "id": "Z4ocJKYgt407",
    "outputId": "25fe9217-6552-47f7-8f1d-29df415feb74"
   },
   "outputs": [
    {
     "name": "stdout",
     "output_type": "stream",
     "text": [
      "Le dictionnaire a cette forme :\n",
      "info {'author': None, 'author_email': 'Luke Maurits <luke@maurits.id.au>', 'bugtrack_url': None, 'classifiers': ['Programming Language :: Python', 'Programming Language :: Python :: 3 :: Only', 'Programming Language :: Python :: 3.10', 'Programming Language :: Python :: 3.11', 'Programming Language :: Python :: 3.12', 'Programming Language :: Python :: 3.13', 'Programming Language :: Python :: 3.14', 'Programming Language :: Python :: 3.9', 'Programming Language :: Python :: Implementation :: CPython', 'Programming Language :: Python :: Implementation :: PyPy', 'Topic :: Text Processing', 'Typing :: Typed'], 'description': '# PrettyTable\\n\\n[![PyPI version](https://img.shields.io/pypi/v/prettytable.svg?logo=pypi&logoColor=FFE873)](https://pypi.org/project/prettytable/)\\n[![Supported Python versions](https://img.shields.io/pypi/pyversions/prettytable.svg?logo=python&logoColor=FFE873)](https://pypi.org/project/prettytable/)\\n[![PyPI downloads](https://img.shields.io/pypi/dm/prettytable.svg)](https://pypistats.org/packages/prettytable)\\n[![GitHub Actions status](https://github.com/prettytable/prettytable/workflows/Test/badge.svg)](https://github.com/prettytable/prettytable/actions)\\n[![codecov](https://codecov.io/gh/prettytable/prettytable/branch/main/graph/badge.svg)](https://codecov.io/gh/prettytable/prettytable)\\n[![Code style: Black](https://img.shields.io/badge/code%20style-Black-000000.svg)](https://github.com/psf/black)\\n[![Tidelift](https://tidelift.com/badges/package/pypi/prettytable)](https://tidelift.com/subscription/pkg/pypi-prettytable?utm_source=pypi-prettytable&utm_medium=badge)\\n\\nPrettyTable lets you print tables in an attractive ASCII form:\\n\\n```\\n+-----------+------+------------+-----------------+\\n| City name | Area | Population | Annual Rainfall |\\n+-----------+------+------------+-----------------+\\n| Adelaide  | 1295 |  1158259   |      600.5      |\\n| Brisbane  | 5905 |  1857594   |      1146.4     |\\n| Darwin    | 112  |   120900   |      1714.7     |\\n| Hobart    | 1357 |   205556   |      619.5      |\\n| Melbourne | 1566 |  3806092   |      646.9      |\\n| Perth     | 5386 |  1554769   |      869.4      |\\n| Sydney    | 2058 |  4336374   |      1214.8     |\\n+-----------+------+------------+-----------------+\\n```\\n\\n## Installation\\n\\nInstall via pip:\\n\\n    python -m pip install -U prettytable\\n\\nInstall latest development version:\\n\\n    python -m pip install -U git+https://github.com/prettytable/prettytable\\n\\nOr from `requirements.txt`:\\n\\n    -e git://github.com/prettytable/prettytable.git#egg=prettytable\\n\\n## Demo\\n\\nTo see demo output, run:\\n\\n```bash\\npython3 -m prettytable\\n```\\n\\n## Tutorial on how to use the PrettyTable API\\n\\n### Getting your data into (and out of) the table\\n\\nLet\\'s suppose you have a shiny new PrettyTable:\\n\\n```python\\nfrom prettytable import PrettyTable\\ntable = PrettyTable()\\n```\\n\\nand you want to put some data into it. You have a few options.\\n\\n#### Row by row\\n\\nYou can add data one row at a time. To do this you can set the field names first using\\nthe `field_names` attribute, and then add the rows one at a time using the `add_row`\\nmethod:\\n\\n```python\\ntable.field_names = [\"City name\", \"Area\", \"Population\", \"Annual Rainfall\"]\\ntable.add_row([\"Adelaide\", 1295, 1158259, 600.5])\\ntable.add_row([\"Brisbane\", 5905, 1857594, 1146.4])\\ntable.add_row([\"Darwin\", 112, 120900, 1714.7])\\ntable.add_row([\"Hobart\", 1357, 205556, 619.5])\\ntable.add_row([\"Sydney\", 2058, 4336374, 1214.8])\\ntable.add_row([\"Melbourne\", 1566, 3806092, 646.9])\\ntable.add_row([\"Perth\", 5386, 1554769, 869.4])\\n```\\n\\n#### All rows at once\\n\\nWhen you have a list of rows, you can add them in one go with `add_rows`:\\n\\n```python\\ntable.field_names = [\"City name\", \"Area\", \"Population\", \"Annual Rainfall\"]\\ntable.add_rows(\\n    [\\n        [\"Adelaide\", 1295, 1158259, 600.5],\\n        [\"Brisbane\", 5905, 1857594, 1146.4],\\n        [\"Darwin\", 112, 120900, 1714.7],\\n        [\"Hobart\", 1357, 205556, 619.5],\\n        [\"Sydney\", 2058, 4336374, 1214.8],\\n        [\"Melbourne\", 1566, 3806092, 646.9],\\n        [\"Perth\", 5386, 1554769, 869.4],\\n    ]\\n)\\n```\\n\\n#### Column by column\\n\\nYou can add data one column at a time as well. To do this you use the `add_column`\\nmethod, which takes two arguments - a string which is the name for the field the column\\nyou are adding corresponds to, and a list or tuple which contains the column data:\\n\\n```python\\ntable.add_column(\"City name\",\\n[\"Adelaide\",\"Brisbane\",\"Darwin\",\"Hobart\",\"Sydney\",\"Melbourne\",\"Perth\"])\\ntable.add_column(\"Area\", [1295, 5905, 112, 1357, 2058, 1566, 5386])\\ntable.add_column(\"Population\", [1158259, 1857594, 120900, 205556, 4336374, 3806092,\\n1554769])\\ntable.add_column(\"Annual Rainfall\",[600.5, 1146.4, 1714.7, 619.5, 1214.8, 646.9,\\n869.4])\\n```\\n\\n#### Mixing and matching\\n\\nIf you really want to, you can even mix and match `add_row` and `add_column` and build\\nsome of your table in one way and some of it in the other. Tables built this way are\\nkind of confusing for other people to read, though, so don\\'t do this unless you have a\\ngood reason.\\n\\n#### Importing data from a CSV file\\n\\nIf you have your table data in a comma-separated values file (.csv), you can read this\\ndata into a PrettyTable like this:\\n\\n```python\\nfrom prettytable import from_csv\\nwith open(\"myfile.csv\") as fp:\\n    mytable = from_csv(fp)\\n```\\n\\n#### Importing data from a database cursor\\n\\nIf you have your table data in a database which you can access using a library which\\nconfirms to the Python DB-API (e.g. an SQLite database accessible using the `sqlite`\\nmodule), then you can build a PrettyTable using a cursor object, like this:\\n\\n```python\\nimport sqlite3\\nfrom prettytable import from_db_cursor\\n\\nconnection = sqlite3.connect(\"mydb.db\")\\ncursor = connection.cursor()\\ncursor.execute(\"SELECT field1, field2, field3 FROM my_table\")\\nmytable = from_db_cursor(cursor)\\n```\\n\\n#### Getting data out\\n\\nThere are three ways to get data out of a PrettyTable, in increasing order of\\ncompleteness:\\n\\n- The `del_row` method takes an integer index of a single row to delete.\\n- The `del_column` method takes a field name of a single column to delete.\\n- The `clear_rows` method takes no arguments and deletes all the rows in the table - but\\n  keeps the field names as they were so you that you can repopulate it with the same\\n  kind of data.\\n- The `clear` method takes no arguments and deletes all rows and all field names. It\\'s\\n  not quite the same as creating a fresh table instance, though - style related\\n  settings, discussed later, are maintained.\\n\\n### Displaying your table in ASCII form\\n\\nPrettyTable\\'s main goal is to let you print tables in an attractive ASCII form, like\\nthis:\\n\\n```\\n+-----------+------+------------+-----------------+\\n| City name | Area | Population | Annual Rainfall |\\n+-----------+------+------------+-----------------+\\n| Adelaide  | 1295 |  1158259   |      600.5      |\\n| Brisbane  | 5905 |  1857594   |      1146.4     |\\n| Darwin    | 112  |   120900   |      1714.7     |\\n| Hobart    | 1357 |   205556   |      619.5      |\\n| Melbourne | 1566 |  3806092   |      646.9      |\\n| Perth     | 5386 |  1554769   |      869.4      |\\n| Sydney    | 2058 |  4336374   |      1214.8     |\\n+-----------+------+------------+-----------------+\\n```\\n\\nYou can print tables like this to `stdout` or get string representations of them.\\n\\n#### Printing\\n\\nTo print a table in ASCII form, you can just do this:\\n\\n```python\\nprint(table)\\n```\\n\\nThe old `table.printt()` method from versions 0.5 and earlier has been removed.\\n\\nTo pass options changing the look of the table, use the `get_string()` method documented\\nbelow:\\n\\n```python\\nprint(table.get_string())\\n```\\n\\n#### Stringing\\n\\nIf you don\\'t want to actually print your table in ASCII form but just get a string\\ncontaining what _would_ be printed if you use `print(table)`, you can use the\\n`get_string` method:\\n\\n```python\\nmystring = table.get_string()\\n```\\n\\nThis string is guaranteed to look exactly the same as what would be printed by doing\\n`print(table)`. You can now do all the usual things you can do with a string, like write\\nyour table to a file or insert it into a GUI.\\n\\nThe table can be displayed in several different formats using `get_formatted_string` by\\nchanging the `out_format=<text|html|json|csv|latex>`. This function passes through\\narguments to the functions that render the table, so additional arguments can be given.\\nThis provides a way to let a user choose the output formatting.\\n\\n```python\\ndef my_cli_function(table_format: str = \\'text\\'):\\n  ...\\n  print(table.get_formatted_string(table_format))\\n```\\n\\n#### Controlling which data gets displayed\\n\\nIf you like, you can restrict the output of `print(table)` or `table.get_string` to only\\nthe fields or rows you like.\\n\\nThe `fields` argument to these methods takes a list of field names to be printed:\\n\\n```python\\nprint(table.get_string(fields=[\"City name\", \"Population\"]))\\n```\\n\\ngives:\\n\\n```\\n+-----------+------------+\\n| City name | Population |\\n+-----------+------------+\\n| Adelaide  |  1158259   |\\n| Brisbane  |  1857594   |\\n| Darwin    |   120900   |\\n| Hobart    |   205556   |\\n| Melbourne |  3806092   |\\n| Perth     |  1554769   |\\n| Sydney    |  4336374   |\\n+-----------+------------+\\n```\\n\\nThe `start` and `end` arguments take the index of the first and last row to print\\nrespectively. Note that the indexing works like Python list slicing - to print the 2nd,\\n3rd and 4th rows of the table, set `start` to 1 (the first row is row 0, so the second\\nis row 1) and set `end` to 4 (the index of the 4th row, plus 1):\\n\\n```python\\nprint(table.get_string(start=1, end=4))\\n```\\n\\nprints:\\n\\n```\\n+-----------+------+------------+-----------------+\\n| City name | Area | Population | Annual Rainfall |\\n+-----------+------+------------+-----------------+\\n| Brisbane  | 5905 |    1857594 | 1146.4          |\\n| Darwin    | 112  |     120900 | 1714.7          |\\n| Hobart    | 1357 |     205556 | 619.5           |\\n+-----------+------+------------+-----------------+\\n```\\n\\n#### Changing the alignment of columns\\n\\nBy default, all columns in a table are centre aligned.\\n\\n##### All columns at once\\n\\nYou can change the alignment of all the columns in a table at once by assigning a one\\ncharacter string to the `align` attribute. The allowed strings are `\"l\"`, `\"r\"` and\\n`\"c\"` for left, right and centre alignment, respectively:\\n\\n```python\\ntable.align = \"r\"\\nprint(table)\\n```\\n\\ngives:\\n\\n```\\n+-----------+------+------------+-----------------+\\n| City name | Area | Population | Annual Rainfall |\\n+-----------+------+------------+-----------------+\\n|  Adelaide | 1295 |    1158259 |           600.5 |\\n|  Brisbane | 5905 |    1857594 |          1146.4 |\\n|    Darwin |  112 |     120900 |          1714.7 |\\n|    Hobart | 1357 |     205556 |           619.5 |\\n| Melbourne | 1566 |    3806092 |           646.9 |\\n|     Perth | 5386 |    1554769 |           869.4 |\\n|    Sydney | 2058 |    4336374 |          1214.8 |\\n+-----------+------+------------+-----------------+\\n```\\n\\n##### One column at a time\\n\\nYou can also change the alignment of individual columns based on the corresponding field\\nname by treating the `align` attribute as if it were a dictionary.\\n\\n```python\\ntable.align[\"City name\"] = \"l\"\\ntable.align[\"Area\"] = \"c\"\\ntable.align[\"Population\"] = \"r\"\\ntable.align[\"Annual Rainfall\"] = \"c\"\\nprint(table)\\n```\\n\\ngives:\\n\\n```\\n+-----------+------+------------+-----------------+\\n| City name | Area | Population | Annual Rainfall |\\n+-----------+------+------------+-----------------+\\n| Adelaide  | 1295 |    1158259 |      600.5      |\\n| Brisbane  | 5905 |    1857594 |      1146.4     |\\n| Darwin    | 112  |     120900 |      1714.7     |\\n| Hobart    | 1357 |     205556 |      619.5      |\\n| Melbourne | 1566 |    3806092 |      646.9      |\\n| Perth     | 5386 |    1554769 |      869.4      |\\n| Sydney    | 2058 |    4336374 |      1214.8     |\\n+-----------+------+------------+-----------------+\\n```\\n\\n##### Sorting your table by a field\\n\\nYou can make sure that your ASCII tables are produced with the data sorted by one\\nparticular field by giving `get_string` a `sortby` keyword argument, which must be a\\nstring containing the name of one field.\\n\\nFor example, to print the example table we built earlier of Australian capital city\\ndata, so that the most populated city comes last, we can do this:\\n\\n```python\\nprint(table.get_string(sortby=\"Population\"))\\n```\\n\\nto get:\\n\\n```\\n+-----------+------+------------+-----------------+\\n| City name | Area | Population | Annual Rainfall |\\n+-----------+------+------------+-----------------+\\n| Darwin    | 112  |   120900   |      1714.7     |\\n| Hobart    | 1357 |   205556   |      619.5      |\\n| Adelaide  | 1295 |  1158259   |      600.5      |\\n| Perth     | 5386 |  1554769   |      869.4      |\\n| Brisbane  | 5905 |  1857594   |      1146.4     |\\n| Melbourne | 1566 |  3806092   |      646.9      |\\n| Sydney    | 2058 |  4336374   |      1214.8     |\\n+-----------+------+------------+-----------------+\\n```\\n\\nIf we want the most populated city to come _first_, we can also give a\\n`reversesort=True` argument.\\n\\nIf you _always_ want your tables to be sorted in a certain way, you can make the setting\\nlong-term like this:\\n\\n```python\\ntable.sortby = \"Population\"\\nprint(table)\\nprint(table)\\nprint(table)\\n```\\n\\nAll three tables printed by this code will be sorted by population (you could do\\n`table.reversesort = True` as well, if you wanted). The behaviour will persist until you\\nturn it off:\\n\\n```python\\ntable.sortby = None\\n```\\n\\nIf you want to specify a custom sorting function, you can use the `sort_key` keyword\\nargument. Pass this a function which accepts two lists of values and returns a negative\\nor positive value depending on whether the first list should appear before or after the\\nsecond one. If your table has n columns, each list will have n+1 elements. Each list\\ncorresponds to one row of the table. The first element will be whatever data is in the\\nrelevant row, in the column specified by the `sort_by` argument. The remaining n\\nelements are the data in each of the table\\'s columns, in order, including a repeated\\ninstance of the data in the `sort_by` column.\\n\\n#### Adding sections to a table\\n\\nYou can divide your table into different sections using the `divider` argument. This\\nwill add a dividing line into the table under the row who has this field set. So we can\\nset up a table like this:\\n\\n```python\\ntable = PrettyTable()\\ntable.field_names = [\"City name\", \"Area\", \"Population\", \"Annual Rainfall\"]\\ntable.add_row([\"Adelaide\", 1295, 1158259, 600.5])\\ntable.add_row([\"Brisbane\", 5905, 1857594, 1146.4])\\ntable.add_row([\"Darwin\", 112, 120900, 1714.7])\\ntable.add_row([\"Hobart\", 1357, 205556, 619.5], divider=True)\\ntable.add_row([\"Melbourne\", 1566, 3806092, 646.9])\\ntable.add_row([\"Perth\", 5386, 1554769, 869.4])\\ntable.add_row([\"Sydney\", 2058, 4336374, 1214.8])\\n```\\n\\nto get a table like this:\\n\\n```\\n+-----------+------+------------+-----------------+\\n| City name | Area | Population | Annual Rainfall |\\n+-----------+------+------------+-----------------+\\n|  Adelaide | 1295 |  1158259   |      600.5      |\\n|  Brisbane | 5905 |  1857594   |      1146.4     |\\n|   Darwin  | 112  |   120900   |      1714.7     |\\n|   Hobart  | 1357 |   205556   |      619.5      |\\n+-----------+------+------------+-----------------+\\n| Melbourne | 1566 |  3806092   |      646.9      |\\n|   Perth   | 5386 |  1554769   |      869.4      |\\n|   Sydney  | 2058 |  4336374   |      1214.8     |\\n+-----------+------+------------+-----------------+\\n```\\n\\nAny added dividers will be removed if a table is sorted.\\n\\n### Changing the appearance of your table - the easy way\\n\\nBy default, PrettyTable produces ASCII tables that look like the ones used in SQL\\ndatabase shells. But it can print them in a variety of other formats as well. If the\\nformat you want to use is common, PrettyTable makes this easy for you to do using the\\n`set_style` method. If you want to produce an uncommon table, you\\'ll have to do things\\nslightly harder (see later).\\n\\n#### Setting a table style\\n\\nYou can set the style for your table using the `set_style` method before any calls to\\n`print` or `get_string`. Here\\'s how to print a table in Markdown format:\\n\\n```python\\nfrom prettytable import TableStyle\\n\\ntable.set_style(TableStyle.MARKDOWN)\\nprint(table)\\n```\\n\\nIn addition to `MARKDOWN` you can use these in-built styles:\\n\\n- `DEFAULT` - The default look, used to undo any style changes you may have made\\n- `PLAIN_COLUMNS` - A borderless style that works well with command line programs for\\n  columnar data\\n- `MSWORD_FRIENDLY` - A format which works nicely with Microsoft Word\\'s \"Convert to\\n  table\" feature\\n- `ORGMODE` - A table style that fits [Org mode](https://orgmode.org/) syntax\\n- `SINGLE_BORDER` and `DOUBLE_BORDER` - Styles that use continuous single/double border\\n  lines with Box drawing characters for a fancier display on terminal\\n\\nOther styles are likely to appear in future releases.\\n\\n### Changing the appearance of your table - the hard way\\n\\nIf you want to display your table in a style other than one of the in-built styles\\nlisted above, you\\'ll have to set things up the hard way.\\n\\nDon\\'t worry, it\\'s not really that hard!\\n\\n#### Style options\\n\\nPrettyTable has a number of style options which control various aspects of how tables\\nare displayed. You have the freedom to set each of these options individually to\\nwhatever you prefer. The `set_style` method just does this automatically for you.\\n\\nThe options are:\\n\\n| Option                       | Details                                                                                                                                                                                          |\\n| ---------------------------- | ------------------------------------------------------------------------------------------------------------------------------------------------------------------------------------------------ |\\n| `border`                     | A Boolean option (must be `True` or `False`). Controls whether a border is drawn inside and around the table.                                                                                    |\\n| `preserve_internal_border`   | A Boolean option (must be `True` or `False`). Controls whether borders are still drawn within the table even when `border=False`.                                                                |\\n| `header`                     | A Boolean option (must be `True` or `False`). Controls whether the first row of the table is a header showing the names of all the fields.                                                       |\\n| `hrules`                     | Controls printing of horizontal rules after rows. Allowed values: `FRAME`, `HEADER`, `ALL`, `NONE`.                                                                                              |\\n| `HEADER`, `ALL`, `NONE`      | These are variables defined inside the `prettytable` module so make sure you import them or use `prettytable.FRAME` etc.                                                                         |\\n| `vrules`                     | Controls printing of vertical rules between columns. Allowed values: `FRAME`, `ALL`, `NONE`.                                                                                                     |\\n| `int_format`                 | A string which controls the way integer data is printed. This works like: `print(\"%<int_format>d\" % data)`.                                                                                      |\\n| `float_format`               | A string which controls the way floating point data is printed. This works like: `print(\"%<float_format>f\" % data)`.                                                                             |\\n| `custom_format`              | A dictionary of field and callable. This allows you to set any format you want `pf.custom_format[\"my_col_int\"] = lambda f, v: f\"{v:,}\"`. The type of the callable is `Callable[[str, Any], str]` |\\n| `padding_width`              | Number of spaces on either side of column data (only used if left and right paddings are `None`).                                                                                                |\\n| `left_padding_width`         | Number of spaces on left-hand side of column data.                                                                                                                                               |\\n| `right_padding_width`        | Number of spaces on right-hand side of column data.                                                                                                                                              |\\n| `vertical_char`              | Single character string used to draw vertical lines. Default: `\\\\|`.                                                                                                                              |\\n| `horizontal_char`            | Single character string used to draw horizontal lines. Default: `-`.                                                                                                                             |\\n| `_horizontal_align_char`     | Single character string used to indicate column alignment in horizontal lines. Default: `:` for Markdown, otherwise `None`.                                                                      |\\n| `junction_char`              | Single character string used to draw line junctions. Default: `+`.                                                                                                                               |\\n| `top_junction_char`          | Single character string used to draw top line junctions. Default: `junction_char`.                                                                                                               |\\n| `bottom_junction_char`       | single character string used to draw bottom line junctions. Default: `junction_char`.                                                                                                            |\\n| `right_junction_char`        | Single character string used to draw right line junctions. Default: `junction_char`.                                                                                                             |\\n| `left_junction_char`         | Single character string used to draw left line junctions. Default: `junction_char`.                                                                                                              |\\n| `top_right_junction_char`    | Single character string used to draw top-right line junctions. Default: `junction_char`.                                                                                                         |\\n| `top_left_junction_char`     | Single character string used to draw top-left line junctions. Default: `junction_char`.                                                                                                          |\\n| `bottom_right_junction_char` | Single character string used to draw bottom-right line junctions. Default: `junction_char`.                                                                                                      |\\n| `bottom_left_junction_char`  | Single character string used to draw bottom-left line junctions. Default: `junction_char`.                                                                                                       |\\n\\nYou can set the style options to your own settings in two ways:\\n\\n#### Setting style options for the long term\\n\\nIf you want to print your table with a different style several times, you can set your\\noption for the long term just by changing the appropriate attributes. If you never want\\nyour tables to have borders you can do this:\\n\\n```python\\ntable.border = False\\nprint(table)\\nprint(table)\\nprint(table)\\n```\\n\\nNeither of the 3 tables printed by this will have borders, even if you do things like\\nadd extra rows in between them. The lack of borders will last until you do:\\n\\n```python\\ntable.border = True\\n```\\n\\nto turn them on again. This sort of long-term setting is exactly how `set_style` works.\\n`set_style` just sets a bunch of attributes to pre-set values for you.\\n\\nNote that if you know what style options you want at the moment you are creating your\\ntable, you can specify them using keyword arguments to the constructor. For example, the\\nfollowing two code blocks are equivalent:\\n\\n```python\\ntable = PrettyTable()\\ntable.border = False\\ntable.header = False\\ntable.padding_width = 5\\n\\ntable = PrettyTable(border=False, header=False, padding_width=5)\\n```\\n\\n#### Changing style options just once\\n\\nIf you don\\'t want to make long-term style changes by changing an attribute like in the\\nprevious section, you can make changes that last for just one `get_string` by giving\\nthose methods keyword arguments. To print two \"normal\" tables with one borderless table\\nbetween them, you could do this:\\n\\n```python\\nprint(table)\\nprint(table.get_string(border=False))\\nprint(table)\\n```\\n\\n### Changing the appearance of your table - with _colors_!\\n\\nPrettyTable has the functionality of printing your table with ANSI color codes. This\\nincludes support for most Windows versions through\\n[Colorama](https://pypi.org/project/colorama/). To get started, import the `ColorTable`\\nclass instead of `PrettyTable`.\\n\\n```diff\\n-from prettytable import PrettyTable\\n+from prettytable.colortable import ColorTable\\n```\\n\\nThe `ColorTable` class can be used the same as `PrettyTable`, but it adds an extra\\nproperty. You can now specify a custom _theme_ that will format your table with colors.\\n\\n```python\\nfrom prettytable.colortable import ColorTable, Themes\\n\\ntable = ColorTable(theme=Themes.OCEAN)\\n\\nprint(table)\\n```\\n\\n#### Creating a custom theme\\n\\nThe `Theme` class allows you to customize both the characters and colors used in your\\ntable.\\n\\n| Argument                                                   | Description                                               |\\n| ---------------------------------------------------------- | --------------------------------------------------------- |\\n| `default_color`                                            | The color to use as default                               |\\n| `vertical_char`, `horizontal_char`, and `junction_char`    | The characters used for creating the outline of the table |\\n| `vertical_color`, `horizontal_color`, and `junction_color` | The colors used to style each character.                  |\\n\\n> **Note:** Colors are formatted with the `Theme.format_code(s: str)` function. It\\n> accepts a string. If the string starts with an escape code (like `\\\\x1b`) then it will\\n> return the given string. If the string is just whitespace, it will return `\"\"`. If the\\n> string is a number (like `\"34\"`), it will automatically format it into an escape code.\\n> I recommend you look into the source code for more information.\\n\\n### Displaying your table in JSON\\n\\nPrettyTable will also print your tables in JSON, as a list of fields and an array of\\nrows. Just like in ASCII form, you can actually get a string representation - just use\\n`get_json_string()`.\\n\\n### Displaying your table in HTML form\\n\\nPrettyTable will also print your tables in HTML form, as `<table>`s. Just like in ASCII\\nform, you can actually get a string representation - just use `get_html_string()`. HTML\\nprinting supports the `fields`, `start`, `end`, `sortby` and `reversesort` arguments in\\nexactly the same way as ASCII printing.\\n\\n#### Styling HTML tables\\n\\nBy default, PrettyTable outputs HTML for \"vanilla\" tables. The HTML code is quite\\nsimple. It looks like this:\\n\\n```html\\n<table>\\n  <thead>\\n    <tr>\\n      <th>City name</th>\\n      <th>Area</th>\\n      <th>Population</th>\\n      <th>Annual Rainfall</th>\\n    </tr>\\n  </thead>\\n  <tbody>\\n    <tr>\\n      <td>Adelaide</td>\\n      <td>1295</td>\\n      <td>1158259</td>\\n      <td>600.5</td>\\n    </tr>\\n    <tr>\\n      <td>Brisbane</td>\\n      <td>5905</td>\\n      <td>1857594</td>\\n      <td>1146.4</td>\\n      ...\\n    </tr>\\n  </tbody>\\n</table>\\n```\\n\\nIf you like, you can ask PrettyTable to do its best to mimic the style options that your\\ntable has set using inline CSS. This is done by giving a `format=True` keyword argument\\nto `get_html_string` method. Note that if you _always_ want to print formatted HTML you\\ncan do:\\n\\n```python\\ntable.format = True\\n```\\n\\nand the setting will persist until you turn it off.\\n\\nJust like with ASCII tables, if you want to change the table\\'s style for just one\\n`get_html_string` you can pass those methods\\' keyword arguments - exactly like `print`\\nand `get_string`.\\n\\n#### Setting HTML attributes\\n\\nYou can provide a dictionary of HTML attribute name/value pairs to the `get_html_string`\\nmethod using the `attributes` keyword argument. This lets you specify common HTML\\nattributes like `id` and `class` that can be used for linking to your tables or\\ncustomising their appearance using CSS. For example:\\n\\n```python\\nprint(table.get_html_string(attributes={\"id\":\"my_table\", \"class\":\"red_table\"}))\\n```\\n\\nwill print:\\n\\n```html\\n<table id=\"my_table\" class=\"red_table\">\\n  <thead>\\n    <tr>\\n      <th>City name</th>\\n      <th>Area</th>\\n      <th>Population</th>\\n      <th>Annual Rainfall</th>\\n    </tr>\\n  </thead>\\n  <tbody>\\n    <tr>\\n      ... ... ...\\n    </tr>\\n  </tbody>\\n</table>\\n```\\n\\n#### Setting HTML escaping\\n\\nBy default, PrettyTable will escape the data contained in the header and data fields\\nwhen sending output to HTML. This can be disabled by setting the `escape_header` and\\n`escape_data` to false. For example:\\n\\n```python\\nprint(table.get_html_string(escape_header=False, escape_data=False))\\n```\\n\\n### Miscellaneous things\\n\\n#### Copying a table\\n\\nYou can call the `copy` method on a PrettyTable object without arguments to return an\\nidentical independent copy of the table.\\n\\nIf you want a copy of a PrettyTable object with just a subset of the rows, you can use\\nlist slicing notation:\\n\\n```python\\nnew_table = old_table[0:5]\\n```\\n\\n## Contributing\\n\\nAfter editing files, use the [Black](https://github.com/psf/black) linter to auto-format\\nchanged lines.\\n\\n```sh\\npython -m pip install black\\nblack prettytable*.py\\n```\\n', 'description_content_type': 'text/markdown', 'docs_url': None, 'download_url': None, 'downloads': {'last_day': -1, 'last_month': -1, 'last_week': -1}, 'dynamic': None, 'home_page': None, 'keywords': None, 'license': None, 'license_expression': 'BSD-3-Clause', 'license_files': ['LICENSE'], 'maintainer': 'Hugo van Kemenade', 'maintainer_email': None, 'name': 'prettytable', 'package_url': 'https://pypi.org/project/prettytable/', 'platform': None, 'project_url': 'https://pypi.org/project/prettytable/', 'project_urls': {'Changelog': 'https://github.com/prettytable/prettytable/releases', 'Funding': 'https://tidelift.com/subscription/pkg/pypi-prettytable?utm_source=pypi-prettytable&utm_medium=pypi', 'Homepage': 'https://github.com/prettytable/prettytable', 'Source': 'https://github.com/prettytable/prettytable'}, 'provides_extra': ['tests'], 'release_url': 'https://pypi.org/project/prettytable/3.13.0/', 'requires_dist': ['wcwidth', 'pytest; extra == \"tests\"', 'pytest-cov; extra == \"tests\"', 'pytest-lazy-fixtures; extra == \"tests\"'], 'requires_python': '>=3.9', 'summary': 'A simple Python library for easily displaying tabular data in a visually appealing ASCII table format', 'version': '3.13.0', 'yanked': False, 'yanked_reason': None}\n",
      "last_serial 27113405\n",
      "releases {'0.1': [{'comment_text': '', 'digests': {'blake2b_256': 'aa2d6dda982fc3ff451d06b5840a4722b1ddd6d611c05af26241f660ea1da598', 'md5': 'c70c326fc3f7cbb0016c74470b68c5d4', 'sha256': '4b78eaacea36bf7321d72bbd6c5ae5b8d9b243b7fabb9c6a5d7bce1e6360b0c5'}, 'downloads': -1, 'filename': 'prettytable-0.1-py2.6.egg', 'has_sig': False, 'md5_digest': 'c70c326fc3f7cbb0016c74470b68c5d4', 'packagetype': 'bdist_egg', 'python_version': '2.6', 'requires_python': None, 'size': 5493, 'upload_time': '2009-04-28T11:14:45', 'upload_time_iso_8601': '2009-04-28T11:14:45.497693Z', 'url': 'https://files.pythonhosted.org/packages/aa/2d/6dda982fc3ff451d06b5840a4722b1ddd6d611c05af26241f660ea1da598/prettytable-0.1-py2.6.egg', 'yanked': False, 'yanked_reason': None}], '0.2': [{'comment_text': '', 'digests': {'blake2b_256': 'fc9615c68452c4b59791edf3e1f2527cde7199a4d7b6cc673bb94bc60d86dd55', 'md5': 'fac6b756ea35fb5c028ef73492074b58', 'sha256': '7ace8226edca26af6ddbed83c64c15f8188fe183581e2e59c68826ccbe28e1ce'}, 'downloads': -1, 'filename': 'prettytable-0.2-py2.6.egg', 'has_sig': False, 'md5_digest': 'fac6b756ea35fb5c028ef73492074b58', 'packagetype': 'bdist_egg', 'python_version': '2.6', 'requires_python': None, 'size': 6186, 'upload_time': '2009-04-29T13:13:06', 'upload_time_iso_8601': '2009-04-29T13:13:06.839432Z', 'url': 'https://files.pythonhosted.org/packages/fc/96/15c68452c4b59791edf3e1f2527cde7199a4d7b6cc673bb94bc60d86dd55/prettytable-0.2-py2.6.egg', 'yanked': False, 'yanked_reason': None}], '0.2.1': [{'comment_text': '', 'digests': {'blake2b_256': '04d5942a2bbaca693ff7942590f51959b8dd12a760598e4c98d95a31c4b2d991', 'md5': '0770799d6423fd3b919074ed2c6a7e3c', 'sha256': '15d51ec1aca83a8b6513f3b220619063382d4ff45953f944bf86beca8a647796'}, 'downloads': -1, 'filename': 'prettytable-0.2.1-py2.6.egg', 'has_sig': False, 'md5_digest': '0770799d6423fd3b919074ed2c6a7e3c', 'packagetype': 'bdist_egg', 'python_version': '2.6', 'requires_python': None, 'size': 6531, 'upload_time': '2009-04-29T15:23:40', 'upload_time_iso_8601': '2009-04-29T15:23:40.050049Z', 'url': 'https://files.pythonhosted.org/packages/04/d5/942a2bbaca693ff7942590f51959b8dd12a760598e4c98d95a31c4b2d991/prettytable-0.2.1-py2.6.egg', 'yanked': False, 'yanked_reason': None}], '0.3': [{'comment_text': '', 'digests': {'blake2b_256': 'cb2b89865a1d735309404c092f6ac99dba1c5b1cb2ab832b7825d24d63312943', 'md5': '2fc3371604b70d2a60c98e2d3b9516f3', 'sha256': '04fc99a3ab8e9a6e62c5c8741d334a05229378c8c79ea3df8a8c0d09b1b4c66e'}, 'downloads': -1, 'filename': 'prettytable-0.3-py2.6.egg', 'has_sig': False, 'md5_digest': '2fc3371604b70d2a60c98e2d3b9516f3', 'packagetype': 'bdist_egg', 'python_version': '2.6', 'requires_python': None, 'size': 7186, 'upload_time': '2009-05-01T08:59:19', 'upload_time_iso_8601': '2009-05-01T08:59:19.192274Z', 'url': 'https://files.pythonhosted.org/packages/cb/2b/89865a1d735309404c092f6ac99dba1c5b1cb2ab832b7825d24d63312943/prettytable-0.3-py2.6.egg', 'yanked': False, 'yanked_reason': None}, {'comment_text': '', 'digests': {'blake2b_256': '56e4e21204d3a9757b64a79f3a9800056676f57f9c5f70245ce53b7012e31546', 'md5': '98205f6c36c3c1e6ec8c01295f02285b', 'sha256': '1523ea10d9c6de00986b3b48144a8aeff734378f2be22570c90e07c207c8207a'}, 'downloads': -1, 'filename': 'prettytable-0.3.tar.gz', 'has_sig': False, 'md5_digest': '98205f6c36c3c1e6ec8c01295f02285b', 'packagetype': 'sdist', 'python_version': 'source', 'requires_python': None, 'size': 3594, 'upload_time': '2009-05-07T08:15:39', 'upload_time_iso_8601': '2009-05-07T08:15:39.911692Z', 'url': 'https://files.pythonhosted.org/packages/56/e4/e21204d3a9757b64a79f3a9800056676f57f9c5f70245ce53b7012e31546/prettytable-0.3.tar.gz', 'yanked': False, 'yanked_reason': None}, {'comment_text': '', 'digests': {'blake2b_256': '2410c9c6551e075154a7e78108cbb52db44965fe0e6800b271b76beeaffa0d15', 'md5': 'd5cc0b6146241df76168ccd26fcb3e34', 'sha256': '892974c5e8fac7c8d73a5826e17777299ebf89fec03b00a98fefd9b2d2e199c5'}, 'downloads': -1, 'filename': 'prettytable-0.3.zip', 'has_sig': False, 'md5_digest': 'd5cc0b6146241df76168ccd26fcb3e34', 'packagetype': 'sdist', 'python_version': 'source', 'requires_python': None, 'size': 4898, 'upload_time': '2009-05-07T08:15:54', 'upload_time_iso_8601': '2009-05-07T08:15:54.521675Z', 'url': 'https://files.pythonhosted.org/packages/24/10/c9c6551e075154a7e78108cbb52db44965fe0e6800b271b76beeaffa0d15/prettytable-0.3.zip', 'yanked': False, 'yanked_reason': None}], '0.4': [{'comment_text': '', 'digests': {'blake2b_256': '30a543f03a549f9235e390c9fd6a081082f9c55c38b450969136b40d7122590a', 'md5': 'adac8a0069a675e3dcc9d380ce8dd05c', 'sha256': '29cb18d581a13fb276eac068cf3d264b2591a3c2b3499b97a6111358c4fa3ac8'}, 'downloads': -1, 'filename': 'prettytable-0.4.tar.gz', 'has_sig': False, 'md5_digest': 'adac8a0069a675e3dcc9d380ce8dd05c', 'packagetype': 'sdist', 'python_version': 'source', 'requires_python': None, 'size': 5310, 'upload_time': '2009-05-13T14:36:27', 'upload_time_iso_8601': '2009-05-13T14:36:27.385759Z', 'url': 'https://files.pythonhosted.org/packages/30/a5/43f03a549f9235e390c9fd6a081082f9c55c38b450969136b40d7122590a/prettytable-0.4.tar.gz', 'yanked': False, 'yanked_reason': None}, {'comment_text': '', 'digests': {'blake2b_256': '24426a030394c00c62b8a51093189fa287dff0aa598d695c36a276aa1b4f7ff8', 'md5': 'ac1edd1c371ba2925174174400e7e926', 'sha256': 'e6c7f46b6ba3089d69ab5330ee8b4402eb14e2c54d9d29d6502ce333718b143e'}, 'downloads': -1, 'filename': 'prettytable-0.4.zip', 'has_sig': False, 'md5_digest': 'ac1edd1c371ba2925174174400e7e926', 'packagetype': 'sdist', 'python_version': 'source', 'requires_python': None, 'size': 6651, 'upload_time': '2009-05-13T14:36:39', 'upload_time_iso_8601': '2009-05-13T14:36:39.905188Z', 'url': 'https://files.pythonhosted.org/packages/24/42/6a030394c00c62b8a51093189fa287dff0aa598d695c36a276aa1b4f7ff8/prettytable-0.4.zip', 'yanked': False, 'yanked_reason': None}], '0.5': [{'comment_text': '', 'digests': {'blake2b_256': '0607fcfe808e157da9cc442ada347532c6ef5c31c23a594e6b0ddf8f35475f31', 'md5': '13a6930d775395f393afd86948afa4fa', 'sha256': '52dbc76b9fdc53f6386ce9380a93653dbff20717296605449b86a73f426b7d8b'}, 'downloads': -1, 'filename': 'prettytable-0.5.tar.gz', 'has_sig': False, 'md5_digest': '13a6930d775395f393afd86948afa4fa', 'packagetype': 'sdist', 'python_version': 'source', 'requires_python': None, 'size': 6101, 'upload_time': '2009-05-26T09:29:43', 'upload_time_iso_8601': '2009-05-26T09:29:43.665188Z', 'url': 'https://files.pythonhosted.org/packages/06/07/fcfe808e157da9cc442ada347532c6ef5c31c23a594e6b0ddf8f35475f31/prettytable-0.5.tar.gz', 'yanked': False, 'yanked_reason': None}, {'comment_text': '', 'digests': {'blake2b_256': '06a1fd7dfad67d52c005776458c97e2800114102e6cb9722526210868a48628c', 'md5': 'f87a13aa7fc1d528879389780e92a23a', 'sha256': 'a381ba555b8bf10e0b8e59c6c5743b30174ce77340defe880e6e30fe238c3906'}, 'downloads': -1, 'filename': 'prettytable-0.5.zip', 'has_sig': False, 'md5_digest': 'f87a13aa7fc1d528879389780e92a23a', 'packagetype': 'sdist', 'python_version': 'source', 'requires_python': None, 'size': 7442, 'upload_time': '2009-05-26T09:29:57', 'upload_time_iso_8601': '2009-05-26T09:29:57.218939Z', 'url': 'https://files.pythonhosted.org/packages/06/a1/fd7dfad67d52c005776458c97e2800114102e6cb9722526210868a48628c/prettytable-0.5.zip', 'yanked': False, 'yanked_reason': None}], '0.6': [{'comment_text': '', 'digests': {'blake2b_256': 'f0870b8f0498405bfa9ede62d00bcb0357e861afc14117791afbf07c1cd3fa86', 'md5': 'a0a1588c4ada3df6ffea6426a53f5de9', 'sha256': 'babe57cb92d4a30185822521cbcfe40c7966db8e7de70c8e99614a9bee61182d'}, 'downloads': -1, 'filename': 'prettytable-0.6.tar.bz2', 'has_sig': False, 'md5_digest': 'a0a1588c4ada3df6ffea6426a53f5de9', 'packagetype': 'sdist', 'python_version': 'source', 'requires_python': None, 'size': 12995, 'upload_time': '2012-06-04T01:04:41', 'upload_time_iso_8601': '2012-06-04T01:04:41.693382Z', 'url': 'https://files.pythonhosted.org/packages/f0/87/0b8f0498405bfa9ede62d00bcb0357e861afc14117791afbf07c1cd3fa86/prettytable-0.6.tar.bz2', 'yanked': False, 'yanked_reason': None}, {'comment_text': '', 'digests': {'blake2b_256': 'dc177054874b05bfb10edc956a9205b5c63c8e9b6d5d71bb7121265ab309b4df', 'md5': '0d3963ae68aaa929d1d12572b4a2200c', 'sha256': '4758bfe9d2fe203e7620fb9e6493e5206861297ea089974be0fc32d4b00a780c'}, 'downloads': -1, 'filename': 'prettytable-0.6.tar.gz', 'has_sig': False, 'md5_digest': '0d3963ae68aaa929d1d12572b4a2200c', 'packagetype': 'sdist', 'python_version': 'source', 'requires_python': None, 'size': 14151, 'upload_time': '2012-06-04T01:03:22', 'upload_time_iso_8601': '2012-06-04T01:03:22.873267Z', 'url': 'https://files.pythonhosted.org/packages/dc/17/7054874b05bfb10edc956a9205b5c63c8e9b6d5d71bb7121265ab309b4df/prettytable-0.6.tar.gz', 'yanked': False, 'yanked_reason': None}, {'comment_text': '', 'digests': {'blake2b_256': 'dd126b03e7731c51d5bfdbdea33c2107914cdc1c34bff1d03eb2853e7688f18a', 'md5': '8e2a642a3650cc71f3a3d8412d69872c', 'sha256': 'cc107f07fa8373c82b84e8b12b2bd14d7ddf09558538b01b0d7ebbd83f8f427f'}, 'downloads': -1, 'filename': 'prettytable-0.6.zip', 'has_sig': False, 'md5_digest': '8e2a642a3650cc71f3a3d8412d69872c', 'packagetype': 'sdist', 'python_version': 'source', 'requires_python': None, 'size': 16183, 'upload_time': '2012-06-04T01:05:07', 'upload_time_iso_8601': '2012-06-04T01:05:07.418115Z', 'url': 'https://files.pythonhosted.org/packages/dd/12/6b03e7731c51d5bfdbdea33c2107914cdc1c34bff1d03eb2853e7688f18a/prettytable-0.6.zip', 'yanked': False, 'yanked_reason': None}], '0.6.1': [{'comment_text': '', 'digests': {'blake2b_256': 'b8794808e86b6b77b0835cc973dbc737a79cb4575db5f10ea6b5d441f6b92ebd', 'md5': 'd4c5c5fb557cd1c9fea61bb3783bef6a', 'sha256': '7935bd8ae5c15b31703bd10eb4a0815288852dd6584e5e5eff33d1a3af6559b6'}, 'downloads': -1, 'filename': 'prettytable-0.6.1.tar.bz2', 'has_sig': False, 'md5_digest': 'd4c5c5fb557cd1c9fea61bb3783bef6a', 'packagetype': 'sdist', 'python_version': 'source', 'requires_python': None, 'size': 17199, 'upload_time': '2012-06-04T00:34:05', 'upload_time_iso_8601': '2012-06-04T00:34:05.034137Z', 'url': 'https://files.pythonhosted.org/packages/b8/79/4808e86b6b77b0835cc973dbc737a79cb4575db5f10ea6b5d441f6b92ebd/prettytable-0.6.1.tar.bz2', 'yanked': False, 'yanked_reason': None}, {'comment_text': '', 'digests': {'blake2b_256': '91d49dee5e6d9ac63d2c6863caa8a91df650cedcb9119f1f5781b82526556eb5', 'md5': '8f97da999f52e47e28ec4ffe7f25c4d8', 'sha256': '4085e520da758d6e22e115377ca5d3723f04fb186303879ab98277070444a9cb'}, 'downloads': -1, 'filename': 'prettytable-0.6.1.tar.gz', 'has_sig': False, 'md5_digest': '8f97da999f52e47e28ec4ffe7f25c4d8', 'packagetype': 'sdist', 'python_version': 'source', 'requires_python': None, 'size': 19678, 'upload_time': '2012-06-04T00:33:49', 'upload_time_iso_8601': '2012-06-04T00:33:49.470818Z', 'url': 'https://files.pythonhosted.org/packages/91/d4/9dee5e6d9ac63d2c6863caa8a91df650cedcb9119f1f5781b82526556eb5/prettytable-0.6.1.tar.gz', 'yanked': False, 'yanked_reason': None}, {'comment_text': '', 'digests': {'blake2b_256': '6f842ab0fd71dbfd720eae77426b8901d5091d488810ba64c845d43d0faf738f', 'md5': '2ac002f4f944f9468b0df8b4de9e8967', 'sha256': '3f4c48d80af6d40d5a76dd1650dece386349d6df8b7b096fc8ec39fec21ceba7'}, 'downloads': -1, 'filename': 'prettytable-0.6.1.zip', 'has_sig': False, 'md5_digest': '2ac002f4f944f9468b0df8b4de9e8967', 'packagetype': 'sdist', 'python_version': 'source', 'requires_python': None, 'size': 22779, 'upload_time': '2012-06-04T00:34:17', 'upload_time_iso_8601': '2012-06-04T00:34:17.189089Z', 'url': 'https://files.pythonhosted.org/packages/6f/84/2ab0fd71dbfd720eae77426b8901d5091d488810ba64c845d43d0faf738f/prettytable-0.6.1.zip', 'yanked': False, 'yanked_reason': None}], '0.7.1': [{'comment_text': '', 'digests': {'blake2b_256': 'eaccf72eb63ea90fcca0a89eaa476e156205320b1ceefcd4ab37b8b83f5a9842', 'md5': 'fa07f08a0a16f76c4838293971de61fc', 'sha256': '599bc5b4b9602e28294cf795733c889c26dd934aa7e0ee9cff9b905d4fbad188'}, 'downloads': -1, 'filename': 'prettytable-0.7.1.tar.bz2', 'has_sig': False, 'md5_digest': 'fa07f08a0a16f76c4838293971de61fc', 'packagetype': 'sdist', 'python_version': 'source', 'requires_python': None, 'size': 21499, 'upload_time': '2013-02-25T00:32:26', 'upload_time_iso_8601': '2013-02-25T00:32:26.350839Z', 'url': 'https://files.pythonhosted.org/packages/ea/cc/f72eb63ea90fcca0a89eaa476e156205320b1ceefcd4ab37b8b83f5a9842/prettytable-0.7.1.tar.bz2', 'yanked': False, 'yanked_reason': None}, {'comment_text': '', 'digests': {'blake2b_256': 'ffa46d21b97807e910d8a8523c6c20d53732a10cccee04a56e4ee80a77cca9e7', 'md5': '43d3bc50e00ff893d03d5ec20f76dc23', 'sha256': '686bda277474e5cc3cff02596d72c2d6f171170225af3dedffe78cbf958c6348'}, 'downloads': -1, 'filename': 'prettytable-0.7.1.tar.gz', 'has_sig': False, 'md5_digest': '43d3bc50e00ff893d03d5ec20f76dc23', 'packagetype': 'sdist', 'python_version': 'source', 'requires_python': None, 'size': 24448, 'upload_time': '2013-02-25T00:32:42', 'upload_time_iso_8601': '2013-02-25T00:32:42.083166Z', 'url': 'https://files.pythonhosted.org/packages/ff/a4/6d21b97807e910d8a8523c6c20d53732a10cccee04a56e4ee80a77cca9e7/prettytable-0.7.1.tar.gz', 'yanked': False, 'yanked_reason': None}, {'comment_text': '', 'digests': {'blake2b_256': 'b9a52bf4329f87105289a3b9bdd806baf0726f81a6b73dd429b5e6b1792cdcf2', 'md5': 'bbfc5cdc994412f1190f34845ca69f40', 'sha256': '0e0a9c663cdd2c084ca3090702a8449cae9e804d46ef29f0a909629467524ddb'}, 'downloads': -1, 'filename': 'prettytable-0.7.1.zip', 'has_sig': False, 'md5_digest': 'bbfc5cdc994412f1190f34845ca69f40', 'packagetype': 'sdist', 'python_version': 'source', 'requires_python': None, 'size': 27737, 'upload_time': '2013-02-25T00:33:08', 'upload_time_iso_8601': '2013-02-25T00:33:08.722703Z', 'url': 'https://files.pythonhosted.org/packages/b9/a5/2bf4329f87105289a3b9bdd806baf0726f81a6b73dd429b5e6b1792cdcf2/prettytable-0.7.1.zip', 'yanked': False, 'yanked_reason': None}], '0.7.2': [{'comment_text': '', 'digests': {'blake2b_256': 'ef304b0746848746ed5941f052479e7c23d2b56d174b82f4fd34a25e389831f5', 'md5': '760dc900590ac3c46736167e09fa463a', 'sha256': '853c116513625c738dc3ce1aee148b5b5757a86727e67eff6502c7ca59d43c36'}, 'downloads': -1, 'filename': 'prettytable-0.7.2.tar.bz2', 'has_sig': False, 'md5_digest': '760dc900590ac3c46736167e09fa463a', 'packagetype': 'sdist', 'python_version': 'source', 'requires_python': None, 'size': 21755, 'upload_time': '2013-04-07T01:37:55', 'upload_time_iso_8601': '2013-04-07T01:37:55.502617Z', 'url': 'https://files.pythonhosted.org/packages/ef/30/4b0746848746ed5941f052479e7c23d2b56d174b82f4fd34a25e389831f5/prettytable-0.7.2.tar.bz2', 'yanked': False, 'yanked_reason': None}, {'comment_text': '', 'digests': {'blake2b_256': 'e0a136203205f77ccf98f3c6cf17cf068c972e6458d7e58509ca66da949ca347', 'md5': 'a6b80afeef286ce66733d54a0296b13b', 'sha256': '2d5460dc9db74a32bcc8f9f67de68b2c4f4d2f01fa3bd518764c69156d9cacd9'}, 'downloads': -1, 'filename': 'prettytable-0.7.2.tar.gz', 'has_sig': False, 'md5_digest': 'a6b80afeef286ce66733d54a0296b13b', 'packagetype': 'sdist', 'python_version': 'source', 'requires_python': None, 'size': 24784, 'upload_time': '2013-04-07T01:39:37', 'upload_time_iso_8601': '2013-04-07T01:39:37.543827Z', 'url': 'https://files.pythonhosted.org/packages/e0/a1/36203205f77ccf98f3c6cf17cf068c972e6458d7e58509ca66da949ca347/prettytable-0.7.2.tar.gz', 'yanked': False, 'yanked_reason': None}, {'comment_text': '', 'digests': {'blake2b_256': '234a9785a37ed6425918af69909af715ced0fa261e518601a0c70309a708fd08', 'md5': '0c1361104caff8b09f220748f9d69899', 'sha256': 'a53da3b43d7a5c229b5e3ca2892ef982c46b7923b51e98f0db49956531211c4f'}, 'downloads': -1, 'filename': 'prettytable-0.7.2.zip', 'has_sig': False, 'md5_digest': '0c1361104caff8b09f220748f9d69899', 'packagetype': 'sdist', 'python_version': 'source', 'requires_python': None, 'size': 28053, 'upload_time': '2013-04-07T01:51:26', 'upload_time_iso_8601': '2013-04-07T01:51:26.762867Z', 'url': 'https://files.pythonhosted.org/packages/23/4a/9785a37ed6425918af69909af715ced0fa261e518601a0c70309a708fd08/prettytable-0.7.2.zip', 'yanked': False, 'yanked_reason': None}], '1.0.0': [{'comment_text': '', 'digests': {'blake2b_256': 'cc16d40b604035012ec5ed0588098b876f5c433de66bb615db647743bcc45886', 'md5': '7da33c365ec3ddd4bd95e74307630bd0', 'sha256': 'd3fa464010bf7fec9384d3ea1a1e14398a9e3f2f0c5d052219366897bf6cb19c'}, 'downloads': -1, 'filename': 'prettytable-1.0.0-py2.py3-none-any.whl', 'has_sig': False, 'md5_digest': '7da33c365ec3ddd4bd95e74307630bd0', 'packagetype': 'bdist_wheel', 'python_version': 'py2.py3', 'requires_python': '>=2.7, !=3.0.*, !=3.1.*, !=3.2.*, !=3.3.*, !=3.4.*', 'size': 22373, 'upload_time': '2020-10-04T19:21:58', 'upload_time_iso_8601': '2020-10-04T19:21:58.808518Z', 'url': 'https://files.pythonhosted.org/packages/cc/16/d40b604035012ec5ed0588098b876f5c433de66bb615db647743bcc45886/prettytable-1.0.0-py2.py3-none-any.whl', 'yanked': False, 'yanked_reason': None}, {'comment_text': '', 'digests': {'blake2b_256': '39c69e2067eef39a677367887d6e41a8d0332d9fcbb98878f52e9192ffbd748a', 'md5': 'fb31d4c94fef42f2caf9784c44d8ea82', 'sha256': '98a3b74b1980e6a9392498e3a2a5406f6bd836f412843c2be23d9c88671747ac'}, 'downloads': -1, 'filename': 'prettytable-1.0.0.tar.gz', 'has_sig': False, 'md5_digest': 'fb31d4c94fef42f2caf9784c44d8ea82', 'packagetype': 'sdist', 'python_version': 'source', 'requires_python': '>=2.7, !=3.0.*, !=3.1.*, !=3.2.*, !=3.3.*, !=3.4.*', 'size': 38198, 'upload_time': '2020-10-04T19:19:42', 'upload_time_iso_8601': '2020-10-04T19:19:42.889844Z', 'url': 'https://files.pythonhosted.org/packages/39/c6/9e2067eef39a677367887d6e41a8d0332d9fcbb98878f52e9192ffbd748a/prettytable-1.0.0.tar.gz', 'yanked': False, 'yanked_reason': None}], '1.0.1': [{'comment_text': '', 'digests': {'blake2b_256': '39da8336296a830caa495a25304e12ffb32a8c3a9d2d08ba995f066fe16152e1', 'md5': 'e9f472973bbd99c8c52b80cd2580fb20', 'sha256': 'e7e464e8f7ecfd9a74c67f8da35f2a7da3d827235ba0a4737bb6d4b19f4a04bb'}, 'downloads': -1, 'filename': 'prettytable-1.0.1-py2.py3-none-any.whl', 'has_sig': False, 'md5_digest': 'e9f472973bbd99c8c52b80cd2580fb20', 'packagetype': 'bdist_wheel', 'python_version': 'py2.py3', 'requires_python': '>=2.7, !=3.0.*, !=3.1.*, !=3.2.*, !=3.3.*, !=3.4.*', 'size': 22394, 'upload_time': '2020-10-09T14:36:21', 'upload_time_iso_8601': '2020-10-09T14:36:21.746886Z', 'url': 'https://files.pythonhosted.org/packages/39/da/8336296a830caa495a25304e12ffb32a8c3a9d2d08ba995f066fe16152e1/prettytable-1.0.1-py2.py3-none-any.whl', 'yanked': False, 'yanked_reason': None}, {'comment_text': '', 'digests': {'blake2b_256': '6989564e58a41c8593be42e2522c43adc29f8a0f387cccec6ea0038c02113f6d', 'md5': 'b5bd0acec56ae7ccf5ac22d3f671c3a7', 'sha256': '6bb7f539903cb031fecb855b615cbcac8cd245ebc6fa51c6e23ab3386db89771'}, 'downloads': -1, 'filename': 'prettytable-1.0.1.tar.gz', 'has_sig': False, 'md5_digest': 'b5bd0acec56ae7ccf5ac22d3f671c3a7', 'packagetype': 'sdist', 'python_version': 'source', 'requires_python': '>=2.7, !=3.0.*, !=3.1.*, !=3.2.*, !=3.3.*, !=3.4.*', 'size': 38601, 'upload_time': '2020-10-09T14:36:02', 'upload_time_iso_8601': '2020-10-09T14:36:02.551125Z', 'url': 'https://files.pythonhosted.org/packages/69/89/564e58a41c8593be42e2522c43adc29f8a0f387cccec6ea0038c02113f6d/prettytable-1.0.1.tar.gz', 'yanked': False, 'yanked_reason': None}], '2.0.0': [{'comment_text': '', 'digests': {'blake2b_256': '94d552e48f3bcf66f838d411ad85c3ac9550c2451d082623e2d4d4df7411ed5c', 'md5': '5cc4cac0ce17c5de3c95ec2eaca3ccb0', 'sha256': '5dc7fcaca227f48deacd86958ae9d7b8c31a186fcb354bbb066763f20adf3eb9'}, 'downloads': -1, 'filename': 'prettytable-2.0.0-py3-none-any.whl', 'has_sig': False, 'md5_digest': '5cc4cac0ce17c5de3c95ec2eaca3ccb0', 'packagetype': 'bdist_wheel', 'python_version': 'py3', 'requires_python': '>=3.6', 'size': 22098, 'upload_time': '2020-11-14T08:08:43', 'upload_time_iso_8601': '2020-11-14T08:08:43.876261Z', 'url': 'https://files.pythonhosted.org/packages/94/d5/52e48f3bcf66f838d411ad85c3ac9550c2451d082623e2d4d4df7411ed5c/prettytable-2.0.0-py3-none-any.whl', 'yanked': False, 'yanked_reason': None}, {'comment_text': '', 'digests': {'blake2b_256': '78dc96f8633fcd49fad2189dd57918ff410627818ff3ebe1649678d8ac2e7126', 'md5': '6154d12d71e8c1ec8d65bcaeca60eb9e', 'sha256': 'e37acd91976fe6119172771520e58d1742c8479703489321dc1d9c85e7259922'}, 'downloads': -1, 'filename': 'prettytable-2.0.0.tar.gz', 'has_sig': False, 'md5_digest': '6154d12d71e8c1ec8d65bcaeca60eb9e', 'packagetype': 'sdist', 'python_version': 'source', 'requires_python': '>=3.6', 'size': 43072, 'upload_time': '2020-11-14T08:09:00', 'upload_time_iso_8601': '2020-11-14T08:09:00.215960Z', 'url': 'https://files.pythonhosted.org/packages/78/dc/96f8633fcd49fad2189dd57918ff410627818ff3ebe1649678d8ac2e7126/prettytable-2.0.0.tar.gz', 'yanked': False, 'yanked_reason': None}], '2.1.0': [{'comment_text': '', 'digests': {'blake2b_256': '261b42b59a4038bc0442e3a0085bc0de385658131eef8a88946333f870559b09', 'md5': 'dddf5bf216c12d99b7c26d7ca29a1aa0', 'sha256': 'bb5abc72bdfae6f3cdadb04fb7726f6915af0ddb7c897a41d4ad7736d9bfd8fd'}, 'downloads': -1, 'filename': 'prettytable-2.1.0-py3-none-any.whl', 'has_sig': False, 'md5_digest': 'dddf5bf216c12d99b7c26d7ca29a1aa0', 'packagetype': 'bdist_wheel', 'python_version': 'py3', 'requires_python': '>=3.6', 'size': 22245, 'upload_time': '2021-03-02T19:34:23', 'upload_time_iso_8601': '2021-03-02T19:34:23.598680Z', 'url': 'https://files.pythonhosted.org/packages/26/1b/42b59a4038bc0442e3a0085bc0de385658131eef8a88946333f870559b09/prettytable-2.1.0-py3-none-any.whl', 'yanked': False, 'yanked_reason': None}, {'comment_text': '', 'digests': {'blake2b_256': 'd4c6d388b3d4992acf413d1b67101107b7f4651cc2835abd0bbd6661678eb2c1', 'md5': 'da13cf70737472c2311fe29c2ee7c8f3', 'sha256': '5882ed9092b391bb8f6e91f59bcdbd748924ff556bb7c634089d5519be87baa0'}, 'downloads': -1, 'filename': 'prettytable-2.1.0.tar.gz', 'has_sig': False, 'md5_digest': 'da13cf70737472c2311fe29c2ee7c8f3', 'packagetype': 'sdist', 'python_version': 'source', 'requires_python': '>=3.6', 'size': 43306, 'upload_time': '2021-03-02T19:34:35', 'upload_time_iso_8601': '2021-03-02T19:34:35.110548Z', 'url': 'https://files.pythonhosted.org/packages/d4/c6/d388b3d4992acf413d1b67101107b7f4651cc2835abd0bbd6661678eb2c1/prettytable-2.1.0.tar.gz', 'yanked': False, 'yanked_reason': None}], '2.2.0': [{'comment_text': '', 'digests': {'blake2b_256': 'bdb5c09f8d237e060a9e7b5d2d1577c2a6bc49fa298a7b4aefd52146f2b9a62e', 'md5': '2cea18842db39adc2213a27bbbb0764a', 'sha256': 'b186f1db9c9377cb552cfa95a3b7a0feab6ec55d7cad7e0763bdcbea1e8f4687'}, 'downloads': -1, 'filename': 'prettytable-2.2.0-py3-none-any.whl', 'has_sig': False, 'md5_digest': '2cea18842db39adc2213a27bbbb0764a', 'packagetype': 'bdist_wheel', 'python_version': 'py3', 'requires_python': '>=3.6', 'size': 23588, 'upload_time': '2021-08-27T09:15:51', 'upload_time_iso_8601': '2021-08-27T09:15:51.079371Z', 'url': 'https://files.pythonhosted.org/packages/bd/b5/c09f8d237e060a9e7b5d2d1577c2a6bc49fa298a7b4aefd52146f2b9a62e/prettytable-2.2.0-py3-none-any.whl', 'yanked': False, 'yanked_reason': None}, {'comment_text': '', 'digests': {'blake2b_256': '008d95441120aa870aa800f8b4c6cf650bf0739d7a41883fe81769ab593556c9', 'md5': 'd796440e2d9f72f03b5b58183ca7c0b9', 'sha256': 'bd81678c108e6c73d4f1e47cd4283de301faaa6ff6220bcd1d4022038c56b416'}, 'downloads': -1, 'filename': 'prettytable-2.2.0.tar.gz', 'has_sig': False, 'md5_digest': 'd796440e2d9f72f03b5b58183ca7c0b9', 'packagetype': 'sdist', 'python_version': 'source', 'requires_python': '>=3.6', 'size': 44939, 'upload_time': '2021-08-27T09:15:39', 'upload_time_iso_8601': '2021-08-27T09:15:39.301923Z', 'url': 'https://files.pythonhosted.org/packages/00/8d/95441120aa870aa800f8b4c6cf650bf0739d7a41883fe81769ab593556c9/prettytable-2.2.0.tar.gz', 'yanked': False, 'yanked_reason': None}], '2.2.1': [{'comment_text': '', 'digests': {'blake2b_256': 'e177821a93d77111aee2525841b6116287f99eeefc482f4f28765fd8d7ef1c64', 'md5': 'cfc498de28d308ac9f896a73b9ed76f0', 'sha256': '09fb2c7f93e4f93e0235f05ae199ac3f16da3a251b2cfa1c7108b34ede298fa3'}, 'downloads': -1, 'filename': 'prettytable-2.2.1-py3-none-any.whl', 'has_sig': False, 'md5_digest': 'cfc498de28d308ac9f896a73b9ed76f0', 'packagetype': 'bdist_wheel', 'python_version': 'py3', 'requires_python': '>=3.6', 'size': 23591, 'upload_time': '2021-09-26T08:27:57', 'upload_time_iso_8601': '2021-09-26T08:27:57.993839Z', 'url': 'https://files.pythonhosted.org/packages/e1/77/821a93d77111aee2525841b6116287f99eeefc482f4f28765fd8d7ef1c64/prettytable-2.2.1-py3-none-any.whl', 'yanked': False, 'yanked_reason': None}, {'comment_text': '', 'digests': {'blake2b_256': '81baead3c121d6e59ea4e31bba0976b28ff0369210c66901e84fad20878299e2', 'md5': '6612685f190f33f2ebe6ffc109b6696d', 'sha256': '6d465005573a5c058d4ca343449a5b28c21252b86afcdfa168cdc6a440f0b24c'}, 'downloads': -1, 'filename': 'prettytable-2.2.1.tar.gz', 'has_sig': False, 'md5_digest': '6612685f190f33f2ebe6ffc109b6696d', 'packagetype': 'sdist', 'python_version': 'source', 'requires_python': '>=3.6', 'size': 45102, 'upload_time': '2021-09-26T08:28:11', 'upload_time_iso_8601': '2021-09-26T08:28:11.259681Z', 'url': 'https://files.pythonhosted.org/packages/81/ba/ead3c121d6e59ea4e31bba0976b28ff0369210c66901e84fad20878299e2/prettytable-2.2.1.tar.gz', 'yanked': False, 'yanked_reason': None}], '2.3.0': [{'comment_text': '', 'digests': {'blake2b_256': 'c2983372c23c561cbaaa05bb60b2c3d30bfdad9ab504bf1ddefc7368b4545958', 'md5': 'bdb1a55219128c5e75c02e084df83d8b', 'sha256': '74ba6d10555c93e2d4697751744207f6baadf77010914b2bcd8d5b3b546f84de'}, 'downloads': -1, 'filename': 'prettytable-2.3.0-py3-none-any.whl', 'has_sig': False, 'md5_digest': 'bdb1a55219128c5e75c02e084df83d8b', 'packagetype': 'bdist_wheel', 'python_version': 'py3', 'requires_python': '>=3.6', 'size': 24420, 'upload_time': '2021-11-01T15:23:40', 'upload_time_iso_8601': '2021-11-01T15:23:40.747821Z', 'url': 'https://files.pythonhosted.org/packages/c2/98/3372c23c561cbaaa05bb60b2c3d30bfdad9ab504bf1ddefc7368b4545958/prettytable-2.3.0-py3-none-any.whl', 'yanked': False, 'yanked_reason': None}, {'comment_text': '', 'digests': {'blake2b_256': '8b7da08e1331281f237cbbff594d34696a76dc8b6cea5dca895d0b7487c14309', 'md5': 'de60f199c9ef09308af0823faf4a04f4', 'sha256': 'efd6f72d453bc0513b90f5b10fb4d085b919ca0f4c5ef033bda1dd894572ba64'}, 'downloads': -1, 'filename': 'prettytable-2.3.0.tar.gz', 'has_sig': False, 'md5_digest': 'de60f199c9ef09308af0823faf4a04f4', 'packagetype': 'sdist', 'python_version': 'source', 'requires_python': '>=3.6', 'size': 49386, 'upload_time': '2021-11-01T15:23:53', 'upload_time_iso_8601': '2021-11-01T15:23:53.877165Z', 'url': 'https://files.pythonhosted.org/packages/8b/7d/a08e1331281f237cbbff594d34696a76dc8b6cea5dca895d0b7487c14309/prettytable-2.3.0.tar.gz', 'yanked': False, 'yanked_reason': None}], '2.4.0': [{'comment_text': '', 'digests': {'blake2b_256': 'de56554603797416219cae8fd3eae33e5e2d58a7fc73419129b62fa419a67856', 'md5': '2a861493303494f134ad5e99159d492f', 'sha256': '2492f29e8686bdbcce815a568bff74cb71cbb704747c3abb9c9c6cfe25f985a2'}, 'downloads': -1, 'filename': 'prettytable-2.4.0-py3-none-any.whl', 'has_sig': False, 'md5_digest': '2a861493303494f134ad5e99159d492f', 'packagetype': 'bdist_wheel', 'python_version': 'py3', 'requires_python': '>=3.6', 'size': 24642, 'upload_time': '2021-11-03T13:04:54', 'upload_time_iso_8601': '2021-11-03T13:04:54.066047Z', 'url': 'https://files.pythonhosted.org/packages/de/56/554603797416219cae8fd3eae33e5e2d58a7fc73419129b62fa419a67856/prettytable-2.4.0-py3-none-any.whl', 'yanked': False, 'yanked_reason': None}, {'comment_text': '', 'digests': {'blake2b_256': 'ea36a96f1d0f434e1658b3fde011df028efdc3d38bde563339f0fc9e8beadc59', 'md5': 'c4784a3ea8bd6b326932d112458e051a', 'sha256': '18e56447f636b447096977d468849c1e2d3cfa0af8e7b5acfcf83a64790c0aca'}, 'downloads': -1, 'filename': 'prettytable-2.4.0.tar.gz', 'has_sig': False, 'md5_digest': 'c4784a3ea8bd6b326932d112458e051a', 'packagetype': 'sdist', 'python_version': 'source', 'requires_python': '>=3.6', 'size': 49756, 'upload_time': '2021-11-03T13:05:08', 'upload_time_iso_8601': '2021-11-03T13:05:08.702843Z', 'url': 'https://files.pythonhosted.org/packages/ea/36/a96f1d0f434e1658b3fde011df028efdc3d38bde563339f0fc9e8beadc59/prettytable-2.4.0.tar.gz', 'yanked': False, 'yanked_reason': None}], '2.5.0': [{'comment_text': '', 'digests': {'blake2b_256': '9e6d40a24eaa03ea4418129708fd3f0f17eda73d568f16d4d4fd412566168b4c', 'md5': '254a878c3b1599e92a036a735dc5ed10', 'sha256': '1411c65d21dca9eaa505ba1d041bed75a6d629ae22f5109a923f4e719cfecba4'}, 'downloads': -1, 'filename': 'prettytable-2.5.0-py3-none-any.whl', 'has_sig': False, 'md5_digest': '254a878c3b1599e92a036a735dc5ed10', 'packagetype': 'bdist_wheel', 'python_version': 'py3', 'requires_python': '>=3.6', 'size': 24774, 'upload_time': '2021-12-20T15:36:48', 'upload_time_iso_8601': '2021-12-20T15:36:48.767087Z', 'url': 'https://files.pythonhosted.org/packages/9e/6d/40a24eaa03ea4418129708fd3f0f17eda73d568f16d4d4fd412566168b4c/prettytable-2.5.0-py3-none-any.whl', 'yanked': False, 'yanked_reason': None}, {'comment_text': '', 'digests': {'blake2b_256': 'e43521bf22e21b29102bbe81730caf498dfb3e1eed2642ac71f323472ead673a', 'md5': '3501ecf0e8cd30cee06f4385838848a8', 'sha256': 'f7da57ba63d55116d65e5acb147bfdfa60dceccabf0d607d6817ee2888a05f2c'}, 'downloads': -1, 'filename': 'prettytable-2.5.0.tar.gz', 'has_sig': False, 'md5_digest': '3501ecf0e8cd30cee06f4385838848a8', 'packagetype': 'sdist', 'python_version': 'source', 'requires_python': '>=3.6', 'size': 50015, 'upload_time': '2021-12-20T15:37:08', 'upload_time_iso_8601': '2021-12-20T15:37:08.478695Z', 'url': 'https://files.pythonhosted.org/packages/e4/35/21bf22e21b29102bbe81730caf498dfb3e1eed2642ac71f323472ead673a/prettytable-2.5.0.tar.gz', 'yanked': False, 'yanked_reason': None}], '3.0.0': [{'comment_text': '', 'digests': {'blake2b_256': '714f82c03ec59c6b9b1caaa60e1e7d7713f4587a75824207e41698effc8ca5b7', 'md5': 'a4004db435f414d1ac54e6f485be19ff', 'sha256': 'd55bc2547611bd8c40f1c69bbb8daf1b6b2c326214a265d211ec9c57fc252093'}, 'downloads': -1, 'filename': 'prettytable-3.0.0-py3-none-any.whl', 'has_sig': False, 'md5_digest': 'a4004db435f414d1ac54e6f485be19ff', 'packagetype': 'bdist_wheel', 'python_version': 'py3', 'requires_python': '>=3.7', 'size': 24731, 'upload_time': '2022-01-06T21:31:09', 'upload_time_iso_8601': '2022-01-06T21:31:09.477374Z', 'url': 'https://files.pythonhosted.org/packages/71/4f/82c03ec59c6b9b1caaa60e1e7d7713f4587a75824207e41698effc8ca5b7/prettytable-3.0.0-py3-none-any.whl', 'yanked': False, 'yanked_reason': None}, {'comment_text': '', 'digests': {'blake2b_256': '7119d65d4c39aa12a5630a8aa02ead8324cfaae3217146b19dd25d88d763bbdf', 'md5': 'dfd27dddd4fe6b2624c068830f433611', 'sha256': '69fe75d78ac8651e16dd61265b9e19626df5d630ae294fc31687aa6037b97a58'}, 'downloads': -1, 'filename': 'prettytable-3.0.0.tar.gz', 'has_sig': False, 'md5_digest': 'dfd27dddd4fe6b2624c068830f433611', 'packagetype': 'sdist', 'python_version': 'source', 'requires_python': '>=3.7', 'size': 50012, 'upload_time': '2022-01-06T21:30:49', 'upload_time_iso_8601': '2022-01-06T21:30:49.848852Z', 'url': 'https://files.pythonhosted.org/packages/71/19/d65d4c39aa12a5630a8aa02ead8324cfaae3217146b19dd25d88d763bbdf/prettytable-3.0.0.tar.gz', 'yanked': False, 'yanked_reason': None}], '3.1.0': [{'comment_text': '', 'digests': {'blake2b_256': 'bff52ec9f14ac0a8efc292d003ff60d001ce28994a3b3109fda1d786be3415c8', 'md5': 'd50979ab57291893b32ccf4af4e12d40', 'sha256': 'e87c6a7d9ef34230556fa0b4bb5ea465fdada6912cd90401afb0ce4bfa106448'}, 'downloads': -1, 'filename': 'prettytable-3.1.0-py3-none-any.whl', 'has_sig': False, 'md5_digest': 'd50979ab57291893b32ccf4af4e12d40', 'packagetype': 'bdist_wheel', 'python_version': 'py3', 'requires_python': '>=3.7', 'size': 26348, 'upload_time': '2022-02-13T19:57:25', 'upload_time_iso_8601': '2022-02-13T19:57:25.549397Z', 'url': 'https://files.pythonhosted.org/packages/bf/f5/2ec9f14ac0a8efc292d003ff60d001ce28994a3b3109fda1d786be3415c8/prettytable-3.1.0-py3-none-any.whl', 'yanked': False, 'yanked_reason': None}, {'comment_text': '', 'digests': {'blake2b_256': '0155a4a1a0f73f7665744cd5712fd6f982e5406c8e7459a0730a69299a3c1e2b', 'md5': '858bd25fd087969e0872680b1505a6d7', 'sha256': '7c2e104031614b5ba013516440241702bfaa369534069de3bacca015ffd0f27b'}, 'downloads': -1, 'filename': 'prettytable-3.1.0.tar.gz', 'has_sig': False, 'md5_digest': '858bd25fd087969e0872680b1505a6d7', 'packagetype': 'sdist', 'python_version': 'source', 'requires_python': '>=3.7', 'size': 52695, 'upload_time': '2022-02-13T19:58:14', 'upload_time_iso_8601': '2022-02-13T19:58:14.388706Z', 'url': 'https://files.pythonhosted.org/packages/01/55/a4a1a0f73f7665744cd5712fd6f982e5406c8e7459a0730a69299a3c1e2b/prettytable-3.1.0.tar.gz', 'yanked': False, 'yanked_reason': None}], '3.1.1': [{'comment_text': '', 'digests': {'blake2b_256': 'f9b57775772482999e0659def71de81cb888a822b29284ca2b7d55f37ba512bb', 'md5': '5ae10a1f8d8f811e2eda67981dee856b', 'sha256': 'f546d42de21ac14d791c91e4e9814f02271f4a5bf27b894457914be7513dc92b'}, 'downloads': -1, 'filename': 'prettytable-3.1.1-py3-none-any.whl', 'has_sig': False, 'md5_digest': '5ae10a1f8d8f811e2eda67981dee856b', 'packagetype': 'bdist_wheel', 'python_version': 'py3', 'requires_python': '>=3.7', 'size': 26350, 'upload_time': '2022-02-16T15:35:36', 'upload_time_iso_8601': '2022-02-16T15:35:36.669143Z', 'url': 'https://files.pythonhosted.org/packages/f9/b5/7775772482999e0659def71de81cb888a822b29284ca2b7d55f37ba512bb/prettytable-3.1.1-py3-none-any.whl', 'yanked': False, 'yanked_reason': None}, {'comment_text': '', 'digests': {'blake2b_256': '89c13043e85bf06f252f51817dad51a37368daaf7b1c101b43cd5aa6100f09b1', 'md5': '4f4fea97c6e27446e3da86ee456138a1', 'sha256': '43c9e23272ca253d038ae76fe3adde89794e92e7fcab2ddf5b94b38642ef4f21'}, 'downloads': -1, 'filename': 'prettytable-3.1.1.tar.gz', 'has_sig': False, 'md5_digest': '4f4fea97c6e27446e3da86ee456138a1', 'packagetype': 'sdist', 'python_version': 'source', 'requires_python': '>=3.7', 'size': 52705, 'upload_time': '2022-02-16T15:35:50', 'upload_time_iso_8601': '2022-02-16T15:35:50.930845Z', 'url': 'https://files.pythonhosted.org/packages/89/c1/3043e85bf06f252f51817dad51a37368daaf7b1c101b43cd5aa6100f09b1/prettytable-3.1.1.tar.gz', 'yanked': False, 'yanked_reason': None}], '3.10.0': [{'comment_text': '', 'digests': {'blake2b_256': '3dc4a32f4bf44faf95accbbd5d7864ddef9e289749a8efbc3adaad4a4671779a', 'md5': '5df566813f61607cb03d73f0e54f864c', 'sha256': '6536efaf0757fdaa7d22e78b3aac3b69ea1b7200538c2c6995d649365bddab92'}, 'downloads': -1, 'filename': 'prettytable-3.10.0-py3-none-any.whl', 'has_sig': False, 'md5_digest': '5df566813f61607cb03d73f0e54f864c', 'packagetype': 'bdist_wheel', 'python_version': 'py3', 'requires_python': '>=3.8', 'size': 28109, 'upload_time': '2024-02-19T16:32:50', 'upload_time_iso_8601': '2024-02-19T16:32:50.425517Z', 'url': 'https://files.pythonhosted.org/packages/3d/c4/a32f4bf44faf95accbbd5d7864ddef9e289749a8efbc3adaad4a4671779a/prettytable-3.10.0-py3-none-any.whl', 'yanked': False, 'yanked_reason': None}, {'comment_text': '', 'digests': {'blake2b_256': '19d37cb826e085a254888d8afb4ae3f8d43859b13149ac8450b221120d4964c9', 'md5': 'f3b3f5738658bbf8d1fb8c7859ea95e6', 'sha256': '9665594d137fb08a1117518c25551e0ede1687197cf353a4fdc78d27e1073568'}, 'downloads': -1, 'filename': 'prettytable-3.10.0.tar.gz', 'has_sig': False, 'md5_digest': 'f3b3f5738658bbf8d1fb8c7859ea95e6', 'packagetype': 'sdist', 'python_version': 'source', 'requires_python': '>=3.8', 'size': 54830, 'upload_time': '2024-02-19T16:34:35', 'upload_time_iso_8601': '2024-02-19T16:34:35.155571Z', 'url': 'https://files.pythonhosted.org/packages/19/d3/7cb826e085a254888d8afb4ae3f8d43859b13149ac8450b221120d4964c9/prettytable-3.10.0.tar.gz', 'yanked': False, 'yanked_reason': None}], '3.10.1': [{'comment_text': '', 'digests': {'blake2b_256': 'f37122d9d8c7117b993050cf258de936d1fdda2e2a308f620e690e3b53a1d1ad', 'md5': 'f253039a880da50f1c80da21e26c8bc2', 'sha256': 'f28207476765f0ce758dc208faad50fc92f36ee2a3074eb46794420cdd798cab'}, 'downloads': -1, 'filename': 'prettytable-3.10.1-py3-none-any.whl', 'has_sig': False, 'md5_digest': 'f253039a880da50f1c80da21e26c8bc2', 'packagetype': 'bdist_wheel', 'python_version': 'py3', 'requires_python': '>=3.8', 'size': 28260, 'upload_time': '2024-07-12T09:20:55', 'upload_time_iso_8601': '2024-07-12T09:20:55.947066Z', 'url': 'https://files.pythonhosted.org/packages/f3/71/22d9d8c7117b993050cf258de936d1fdda2e2a308f620e690e3b53a1d1ad/prettytable-3.10.1-py3-none-any.whl', 'yanked': False, 'yanked_reason': None}, {'comment_text': '', 'digests': {'blake2b_256': '4b44ca429ee75c469c3d1910412da51d5543d58b2f6d8e1d2bcf05269139c6d1', 'md5': '1a08a6a8b554a71e44549e9453b860f0', 'sha256': 'cfc06039df6ff73d4e6b5209127fe5a29ff4470a5fa6ab8a6e90d6751a4f1b64'}, 'downloads': -1, 'filename': 'prettytable-3.10.1.tar.gz', 'has_sig': False, 'md5_digest': '1a08a6a8b554a71e44549e9453b860f0', 'packagetype': 'sdist', 'python_version': 'source', 'requires_python': '>=3.8', 'size': 55850, 'upload_time': '2024-07-12T09:21:29', 'upload_time_iso_8601': '2024-07-12T09:21:29.299882Z', 'url': 'https://files.pythonhosted.org/packages/4b/44/ca429ee75c469c3d1910412da51d5543d58b2f6d8e1d2bcf05269139c6d1/prettytable-3.10.1.tar.gz', 'yanked': False, 'yanked_reason': None}], '3.10.2': [{'comment_text': '', 'digests': {'blake2b_256': 'c516ec5cc65437dce97d2814a7ba31842b0ee958d102f6e99e264c35f15c328f', 'md5': '2a6ee8cdec770246fb40b8c53c1fb30a', 'sha256': '1cbfdeb4bcc73976a778a0fb33cb6d752e75396f16574dcb3e2d6332fd93c76a'}, 'downloads': -1, 'filename': 'prettytable-3.10.2-py3-none-any.whl', 'has_sig': False, 'md5_digest': '2a6ee8cdec770246fb40b8c53c1fb30a', 'packagetype': 'bdist_wheel', 'python_version': 'py3', 'requires_python': '>=3.8', 'size': 28320, 'upload_time': '2024-07-12T09:22:04', 'upload_time_iso_8601': '2024-07-12T09:22:04.224705Z', 'url': 'https://files.pythonhosted.org/packages/c5/16/ec5cc65437dce97d2814a7ba31842b0ee958d102f6e99e264c35f15c328f/prettytable-3.10.2-py3-none-any.whl', 'yanked': False, 'yanked_reason': None}, {'comment_text': '', 'digests': {'blake2b_256': '4c90e1c8c06235d53c3adaae74d295669612beea5f5a2052b3184a763e7bdd62', 'md5': '9f6088be020e991d3c04e9ee7c6be595', 'sha256': '29ec6c34260191d42cd4928c28d56adec360ac2b1208a26c7e4f14b90cc8bc84'}, 'downloads': -1, 'filename': 'prettytable-3.10.2.tar.gz', 'has_sig': False, 'md5_digest': '9f6088be020e991d3c04e9ee7c6be595', 'packagetype': 'sdist', 'python_version': 'source', 'requires_python': '>=3.8', 'size': 56415, 'upload_time': '2024-07-12T09:22:28', 'upload_time_iso_8601': '2024-07-12T09:22:28.278311Z', 'url': 'https://files.pythonhosted.org/packages/4c/90/e1c8c06235d53c3adaae74d295669612beea5f5a2052b3184a763e7bdd62/prettytable-3.10.2.tar.gz', 'yanked': False, 'yanked_reason': None}], '3.11.0': [{'comment_text': '', 'digests': {'blake2b_256': 'd95abfdc26c0e19156992b1dc9de47f0b2e8992fe43db9981d814f860bdce2b3', 'md5': '4d3f45561615e506771cc3cb1cb6c3a4', 'sha256': 'aa17083feb6c71da11a68b2c213b04675c4af4ce9c541762632ca3f2cb3546dd'}, 'downloads': -1, 'filename': 'prettytable-3.11.0-py3-none-any.whl', 'has_sig': False, 'md5_digest': '4d3f45561615e506771cc3cb1cb6c3a4', 'packagetype': 'bdist_wheel', 'python_version': 'py3', 'requires_python': '>=3.8', 'size': 28734, 'upload_time': '2024-08-12T13:29:31', 'upload_time_iso_8601': '2024-08-12T13:29:31.981240Z', 'url': 'https://files.pythonhosted.org/packages/d9/5a/bfdc26c0e19156992b1dc9de47f0b2e8992fe43db9981d814f860bdce2b3/prettytable-3.11.0-py3-none-any.whl', 'yanked': False, 'yanked_reason': None}, {'comment_text': '', 'digests': {'blake2b_256': '28570a642bec16d5736b9baaac7e830bedccd10341dc2858075c34d5aec5c8b6', 'md5': 'fbec4419c46b035b6e792bef327eef3c', 'sha256': '7e23ca1e68bbfd06ba8de98bf553bf3493264c96d5e8a615c0471025deeba722'}, 'downloads': -1, 'filename': 'prettytable-3.11.0.tar.gz', 'has_sig': False, 'md5_digest': 'fbec4419c46b035b6e792bef327eef3c', 'packagetype': 'sdist', 'python_version': 'source', 'requires_python': '>=3.8', 'size': 57527, 'upload_time': '2024-08-12T13:29:59', 'upload_time_iso_8601': '2024-08-12T13:29:59.315344Z', 'url': 'https://files.pythonhosted.org/packages/28/57/0a642bec16d5736b9baaac7e830bedccd10341dc2858075c34d5aec5c8b6/prettytable-3.11.0.tar.gz', 'yanked': False, 'yanked_reason': None}], '3.12.0': [{'comment_text': '', 'digests': {'blake2b_256': '73194bb9530512432774fdd7cb7c020851d4decbb811d95f86fd4f6a870a6d3e', 'md5': '8125196479244783ffe435584ec1cf7d', 'sha256': '77ca0ad1c435b6e363d7e8623d7cc4fcf2cf15513bf77a1c1b2e814930ac57cc'}, 'downloads': -1, 'filename': 'prettytable-3.12.0-py3-none-any.whl', 'has_sig': False, 'md5_digest': '8125196479244783ffe435584ec1cf7d', 'packagetype': 'bdist_wheel', 'python_version': 'py3', 'requires_python': '>=3.9', 'size': 31105, 'upload_time': '2024-10-30T12:27:19', 'upload_time_iso_8601': '2024-10-30T12:27:19.804816Z', 'url': 'https://files.pythonhosted.org/packages/73/19/4bb9530512432774fdd7cb7c020851d4decbb811d95f86fd4f6a870a6d3e/prettytable-3.12.0-py3-none-any.whl', 'yanked': False, 'yanked_reason': None}, {'comment_text': '', 'digests': {'blake2b_256': '3b8ade4dc1a6098621781c266b3fb3964009af1e9023527180cb8a3b0dd9d09e', 'md5': '28c3d8a0834a7779f9de450a136129d7', 'sha256': 'f04b3e1ba35747ac86e96ec33e3bb9748ce08e254dc2a1c6253945901beec804'}, 'downloads': -1, 'filename': 'prettytable-3.12.0.tar.gz', 'has_sig': False, 'md5_digest': '28c3d8a0834a7779f9de450a136129d7', 'packagetype': 'sdist', 'python_version': 'source', 'requires_python': '>=3.9', 'size': 59539, 'upload_time': '2024-10-30T12:27:21', 'upload_time_iso_8601': '2024-10-30T12:27:21.647041Z', 'url': 'https://files.pythonhosted.org/packages/3b/8a/de4dc1a6098621781c266b3fb3964009af1e9023527180cb8a3b0dd9d09e/prettytable-3.12.0.tar.gz', 'yanked': False, 'yanked_reason': None}], '3.13.0': [{'comment_text': None, 'digests': {'blake2b_256': '9365461ab13c4d877d428d046c75576c6877381580fe3cdb8fd8231e402f5cac', 'md5': 'bd95732cf23206c6d96980c698a66c25', 'sha256': 'd4f5817a248b77ddaa25b27007566c0a6a064308d991516b61b436ffdbb4f8e9'}, 'downloads': -1, 'filename': 'prettytable-3.13.0-py3-none-any.whl', 'has_sig': False, 'md5_digest': 'bd95732cf23206c6d96980c698a66c25', 'packagetype': 'bdist_wheel', 'python_version': 'py3', 'requires_python': '>=3.9', 'size': 31871, 'upload_time': '2025-01-24T11:00:23', 'upload_time_iso_8601': '2025-01-24T11:00:23.713766Z', 'url': 'https://files.pythonhosted.org/packages/93/65/461ab13c4d877d428d046c75576c6877381580fe3cdb8fd8231e402f5cac/prettytable-3.13.0-py3-none-any.whl', 'yanked': False, 'yanked_reason': None}, {'comment_text': None, 'digests': {'blake2b_256': 'c5ebae616127eae724ff3bef04823a3eeb2633c85b769b6232af4fcc98c7c9d7', 'md5': 'c05c74135e492e5f4027aae83c602d1f', 'sha256': '30e1a097a7acb075b5c488ffe01195349b37009c2d43ca7fa8b5f6a61daace5b'}, 'downloads': -1, 'filename': 'prettytable-3.13.0.tar.gz', 'has_sig': False, 'md5_digest': 'c05c74135e492e5f4027aae83c602d1f', 'packagetype': 'sdist', 'python_version': 'source', 'requires_python': '>=3.9', 'size': 61087, 'upload_time': '2025-01-24T11:00:25', 'upload_time_iso_8601': '2025-01-24T11:00:25.977433Z', 'url': 'https://files.pythonhosted.org/packages/c5/eb/ae616127eae724ff3bef04823a3eeb2633c85b769b6232af4fcc98c7c9d7/prettytable-3.13.0.tar.gz', 'yanked': False, 'yanked_reason': None}], '3.2.0': [{'comment_text': '', 'digests': {'blake2b_256': '965391638391af5a68d27402b920ccc3fdfae51dd3e333476b414393d4478a70', 'md5': '528600bc71fb22b66ac6472bc8320c61', 'sha256': 'f6c5ec87c3ef9df5bba1d32d826c1b862ecad0344dddb6082e3562caf71fe085'}, 'downloads': -1, 'filename': 'prettytable-3.2.0-py3-none-any.whl', 'has_sig': False, 'md5_digest': '528600bc71fb22b66ac6472bc8320c61', 'packagetype': 'bdist_wheel', 'python_version': 'py3', 'requires_python': '>=3.7', 'size': 26422, 'upload_time': '2022-03-07T07:16:21', 'upload_time_iso_8601': '2022-03-07T07:16:21.457816Z', 'url': 'https://files.pythonhosted.org/packages/96/53/91638391af5a68d27402b920ccc3fdfae51dd3e333476b414393d4478a70/prettytable-3.2.0-py3-none-any.whl', 'yanked': False, 'yanked_reason': None}, {'comment_text': '', 'digests': {'blake2b_256': 'cb7d7e6bc4bd4abc49e9f4f5c4773bb43d1615e4b476d108d1b527318b9c6521', 'md5': '7b5f860ec21801e742c9e784d41914ed', 'sha256': 'ae7d96c64100543dc61662b40a28f3b03c0f94a503ed121c6fca2782c5816f81'}, 'downloads': -1, 'filename': 'prettytable-3.2.0.tar.gz', 'has_sig': False, 'md5_digest': '7b5f860ec21801e742c9e784d41914ed', 'packagetype': 'sdist', 'python_version': 'source', 'requires_python': '>=3.7', 'size': 52976, 'upload_time': '2022-03-07T07:16:33', 'upload_time_iso_8601': '2022-03-07T07:16:33.452715Z', 'url': 'https://files.pythonhosted.org/packages/cb/7d/7e6bc4bd4abc49e9f4f5c4773bb43d1615e4b476d108d1b527318b9c6521/prettytable-3.2.0.tar.gz', 'yanked': False, 'yanked_reason': None}], '3.3.0': [{'comment_text': '', 'digests': {'blake2b_256': '5fab64371af206988d7b15c8112c9c277b8eb4618397c01471e52b902a17f59c', 'md5': '35291bc7267a0799aa513d3b6da8d6c1', 'sha256': 'd1c34d72ea2c0ffd6ce5958e71c428eb21a3d40bf3133afe319b24aeed5af407'}, 'downloads': -1, 'filename': 'prettytable-3.3.0-py3-none-any.whl', 'has_sig': False, 'md5_digest': '35291bc7267a0799aa513d3b6da8d6c1', 'packagetype': 'bdist_wheel', 'python_version': 'py3', 'requires_python': '>=3.7', 'size': 26815, 'upload_time': '2022-05-05T15:21:28', 'upload_time_iso_8601': '2022-05-05T15:21:28.291735Z', 'url': 'https://files.pythonhosted.org/packages/5f/ab/64371af206988d7b15c8112c9c277b8eb4618397c01471e52b902a17f59c/prettytable-3.3.0-py3-none-any.whl', 'yanked': False, 'yanked_reason': None}, {'comment_text': '', 'digests': {'blake2b_256': '1088ef38a6e4bc375600d3031e405a8d3b3dc4a154fccffd21d5d06e66c96230', 'md5': '79c160fbf1b09af23d19230d922a5e04', 'sha256': '118eb54fd2794049b810893653b20952349df6d3bc1764e7facd8a18064fa9b0'}, 'downloads': -1, 'filename': 'prettytable-3.3.0.tar.gz', 'has_sig': False, 'md5_digest': '79c160fbf1b09af23d19230d922a5e04', 'packagetype': 'sdist', 'python_version': 'source', 'requires_python': '>=3.7', 'size': 54305, 'upload_time': '2022-05-05T15:21:40', 'upload_time_iso_8601': '2022-05-05T15:21:40.500795Z', 'url': 'https://files.pythonhosted.org/packages/10/88/ef38a6e4bc375600d3031e405a8d3b3dc4a154fccffd21d5d06e66c96230/prettytable-3.3.0.tar.gz', 'yanked': False, 'yanked_reason': None}], '3.4.0': [{'comment_text': '', 'digests': {'blake2b_256': 'a7b7691a836347df9610c2264e7e60461f9991ca36ce9f2179a38ebc9e4a2682', 'md5': '497693e7ed153641f5ac7cc56b9b47cf', 'sha256': '8ea12e615fee421090ca3954c2e006280f7ecdf4adf940dbc1c6ec014d4eca9d'}, 'downloads': -1, 'filename': 'prettytable-3.4.0-py3-none-any.whl', 'has_sig': False, 'md5_digest': '497693e7ed153641f5ac7cc56b9b47cf', 'packagetype': 'bdist_wheel', 'python_version': 'py3', 'requires_python': '>=3.7', 'size': 27125, 'upload_time': '2022-08-25T12:44:33', 'upload_time_iso_8601': '2022-08-25T12:44:33.804885Z', 'url': 'https://files.pythonhosted.org/packages/a7/b7/691a836347df9610c2264e7e60461f9991ca36ce9f2179a38ebc9e4a2682/prettytable-3.4.0-py3-none-any.whl', 'yanked': False, 'yanked_reason': None}, {'comment_text': '', 'digests': {'blake2b_256': '6342b8b24cfe616a8217515011fc54ed37b45077cd4467230b3a0132166696a1', 'md5': '5d14c03c1f90269a8e24bd47a05d4ed3', 'sha256': 'd16747b5108c252bf065ea1cd239aab3c87bd8bb10a9f7973c9f192bbcfed26e'}, 'downloads': -1, 'filename': 'prettytable-3.4.0.tar.gz', 'has_sig': False, 'md5_digest': '5d14c03c1f90269a8e24bd47a05d4ed3', 'packagetype': 'sdist', 'python_version': 'source', 'requires_python': '>=3.7', 'size': 54901, 'upload_time': '2022-08-25T12:45:14', 'upload_time_iso_8601': '2022-08-25T12:45:14.861615Z', 'url': 'https://files.pythonhosted.org/packages/63/42/b8b24cfe616a8217515011fc54ed37b45077cd4467230b3a0132166696a1/prettytable-3.4.0.tar.gz', 'yanked': False, 'yanked_reason': None}], '3.4.1': [{'comment_text': '', 'digests': {'blake2b_256': '5bc94e7dbae5054c5bbaed9e7aa7a78e1ceff003d0b0699318e5d6993a0a10c9', 'md5': '8e613b8f66d6ec1bd015255f66ecbffa', 'sha256': '0d23ff81e165077d93367e1379d97893c7a51541483d25bad45b9647660ef06f'}, 'downloads': -1, 'filename': 'prettytable-3.4.1-py3-none-any.whl', 'has_sig': False, 'md5_digest': '8e613b8f66d6ec1bd015255f66ecbffa', 'packagetype': 'bdist_wheel', 'python_version': 'py3', 'requires_python': '>=3.7', 'size': 26827, 'upload_time': '2022-09-02T13:33:45', 'upload_time_iso_8601': '2022-09-02T13:33:45.395422Z', 'url': 'https://files.pythonhosted.org/packages/5b/c9/4e7dbae5054c5bbaed9e7aa7a78e1ceff003d0b0699318e5d6993a0a10c9/prettytable-3.4.1-py3-none-any.whl', 'yanked': False, 'yanked_reason': None}, {'comment_text': '', 'digests': {'blake2b_256': 'a5aa0852b0ee91587a766fbc872f398ed26366c7bf26373d5feb974bebbde8d2', 'md5': '620636dc08885d6f509da578dff64d71', 'sha256': '7d7dd84d0b206f2daac4471a72f299d6907f34516064feb2838e333a4e2567bd'}, 'downloads': -1, 'filename': 'prettytable-3.4.1.tar.gz', 'has_sig': False, 'md5_digest': '620636dc08885d6f509da578dff64d71', 'packagetype': 'sdist', 'python_version': 'source', 'requires_python': '>=3.7', 'size': 54395, 'upload_time': '2022-09-02T13:34:24', 'upload_time_iso_8601': '2022-09-02T13:34:24.496037Z', 'url': 'https://files.pythonhosted.org/packages/a5/aa/0852b0ee91587a766fbc872f398ed26366c7bf26373d5feb974bebbde8d2/prettytable-3.4.1.tar.gz', 'yanked': False, 'yanked_reason': None}], '3.5.0': [{'comment_text': '', 'digests': {'blake2b_256': 'fa4c9b2bbb92a14a09ed929afa40282c088d8e50f79303eb3873fbeba1d96e89', 'md5': '6f2d26130988c93591176661f4afa837', 'sha256': 'fe391c3b545800028edf5dbb6a5360893feb398367fcc1cf8d7a5b29ce5c59a1'}, 'downloads': -1, 'filename': 'prettytable-3.5.0-py3-none-any.whl', 'has_sig': False, 'md5_digest': '6f2d26130988c93591176661f4afa837', 'packagetype': 'bdist_wheel', 'python_version': 'py3', 'requires_python': '>=3.7', 'size': 26941, 'upload_time': '2022-10-28T21:21:21', 'upload_time_iso_8601': '2022-10-28T21:21:21.825860Z', 'url': 'https://files.pythonhosted.org/packages/fa/4c/9b2bbb92a14a09ed929afa40282c088d8e50f79303eb3873fbeba1d96e89/prettytable-3.5.0-py3-none-any.whl', 'yanked': False, 'yanked_reason': None}, {'comment_text': '', 'digests': {'blake2b_256': '51d8f4739a1971029c00fdb97c9ea4abbfb20ea041f6aa7613343f12a468e217', 'md5': 'e48a15487ee5a0c3bdd1e0c2277db0fc', 'sha256': '52f682ba4efe29dccb38ff0fe5bac8a23007d0780ff92a8b85af64bc4fc74d72'}, 'downloads': -1, 'filename': 'prettytable-3.5.0.tar.gz', 'has_sig': False, 'md5_digest': 'e48a15487ee5a0c3bdd1e0c2277db0fc', 'packagetype': 'sdist', 'python_version': 'source', 'requires_python': '>=3.7', 'size': 45879, 'upload_time': '2022-11-06T09:54:01', 'upload_time_iso_8601': '2022-11-06T09:54:01.559712Z', 'url': 'https://files.pythonhosted.org/packages/51/d8/f4739a1971029c00fdb97c9ea4abbfb20ea041f6aa7613343f12a468e217/prettytable-3.5.0.tar.gz', 'yanked': False, 'yanked_reason': None}], '3.6.0': [{'comment_text': '', 'digests': {'blake2b_256': '51fd52b6d8a28f8dabf05e5fcbb5ef639d62326a5bccfa93b98fb7e54d414509', 'md5': '423ecc77e0159f37af90c9b580d9e0a0', 'sha256': '3b767129491767a3a5108e6f305cbaa650f8020a7db5dfe994a2df7ef7bad0fe'}, 'downloads': -1, 'filename': 'prettytable-3.6.0-py3-none-any.whl', 'has_sig': False, 'md5_digest': '423ecc77e0159f37af90c9b580d9e0a0', 'packagetype': 'bdist_wheel', 'python_version': 'py3', 'requires_python': '>=3.7', 'size': 27173, 'upload_time': '2023-01-08T11:03:36', 'upload_time_iso_8601': '2023-01-08T11:03:36.996030Z', 'url': 'https://files.pythonhosted.org/packages/51/fd/52b6d8a28f8dabf05e5fcbb5ef639d62326a5bccfa93b98fb7e54d414509/prettytable-3.6.0-py3-none-any.whl', 'yanked': False, 'yanked_reason': None}, {'comment_text': '', 'digests': {'blake2b_256': 'bab68e78337766d4c324ac22cb887ecc19487531f508dbf17d922b91492d55bb', 'md5': '91ea71be6025df8d0b2399dd2dd23d2d', 'sha256': '2e0026af955b4ea67b22122f310b90eae890738c08cb0458693a49b6221530ac'}, 'downloads': -1, 'filename': 'prettytable-3.6.0.tar.gz', 'has_sig': False, 'md5_digest': '91ea71be6025df8d0b2399dd2dd23d2d', 'packagetype': 'sdist', 'python_version': 'source', 'requires_python': '>=3.7', 'size': 46670, 'upload_time': '2023-01-08T11:04:40', 'upload_time_iso_8601': '2023-01-08T11:04:40.251263Z', 'url': 'https://files.pythonhosted.org/packages/ba/b6/8e78337766d4c324ac22cb887ecc19487531f508dbf17d922b91492d55bb/prettytable-3.6.0.tar.gz', 'yanked': False, 'yanked_reason': None}], '3.7.0': [{'comment_text': '', 'digests': {'blake2b_256': '7acdbec5850e23eb005c6fe30fe4c26bafd9a07b3d2524771f22a0fa01270078', 'md5': '4a74b3fc674ed66422cc7e766572081a', 'sha256': 'f4aaf2ed6e6062a82fd2e6e5289bbbe705ec2788fe401a3a1f62a1cea55526d2'}, 'downloads': -1, 'filename': 'prettytable-3.7.0-py3-none-any.whl', 'has_sig': False, 'md5_digest': '4a74b3fc674ed66422cc7e766572081a', 'packagetype': 'bdist_wheel', 'python_version': 'py3', 'requires_python': '>=3.7', 'size': 27508, 'upload_time': '2023-04-10T09:05:16', 'upload_time_iso_8601': '2023-04-10T09:05:16.908971Z', 'url': 'https://files.pythonhosted.org/packages/7a/cd/bec5850e23eb005c6fe30fe4c26bafd9a07b3d2524771f22a0fa01270078/prettytable-3.7.0-py3-none-any.whl', 'yanked': False, 'yanked_reason': None}, {'comment_text': '', 'digests': {'blake2b_256': '958df6b4448e386eb1382a99cbceabe3899f3aa431992582cc90496843548303', 'md5': '9b790ebacc13b41b874549b13b6e057f', 'sha256': 'ef8334ee40b7ec721651fc4d37ecc7bb2ef55fde5098d994438f0dfdaa385c0c'}, 'downloads': -1, 'filename': 'prettytable-3.7.0.tar.gz', 'has_sig': False, 'md5_digest': '9b790ebacc13b41b874549b13b6e057f', 'packagetype': 'sdist', 'python_version': 'source', 'requires_python': '>=3.7', 'size': 47169, 'upload_time': '2023-04-11T03:32:11', 'upload_time_iso_8601': '2023-04-11T03:32:11.695035Z', 'url': 'https://files.pythonhosted.org/packages/95/8d/f6b4448e386eb1382a99cbceabe3899f3aa431992582cc90496843548303/prettytable-3.7.0.tar.gz', 'yanked': False, 'yanked_reason': None}], '3.8.0': [{'comment_text': '', 'digests': {'blake2b_256': '251e4c284713b092ec384fad4399452f43f6446ad9aabc9c0b3c3c0920cc53b6', 'md5': '37cf0ca574887f25f59893becc41e90e', 'sha256': '03481bca25ae0c28958c8cd6ac5165c159ce89f7ccde04d5c899b24b68bb13b7'}, 'downloads': -1, 'filename': 'prettytable-3.8.0-py3-none-any.whl', 'has_sig': False, 'md5_digest': '37cf0ca574887f25f59893becc41e90e', 'packagetype': 'bdist_wheel', 'python_version': 'py3', 'requires_python': '>=3.8', 'size': 27764, 'upload_time': '2023-06-11T13:29:37', 'upload_time_iso_8601': '2023-06-11T13:29:37.650821Z', 'url': 'https://files.pythonhosted.org/packages/25/1e/4c284713b092ec384fad4399452f43f6446ad9aabc9c0b3c3c0920cc53b6/prettytable-3.8.0-py3-none-any.whl', 'yanked': False, 'yanked_reason': None}, {'comment_text': '', 'digests': {'blake2b_256': '18fa82e719efc465238383f099c08b5284b974f5002dbe12050bcbbc912366eb', 'md5': '63236a34d144ca460ae0063e7dd51fe5', 'sha256': '031eae6a9102017e8c7c7906460d150b7ed78b20fd1d8c8be4edaf88556c07ce'}, 'downloads': -1, 'filename': 'prettytable-3.8.0.tar.gz', 'has_sig': False, 'md5_digest': '63236a34d144ca460ae0063e7dd51fe5', 'packagetype': 'sdist', 'python_version': 'source', 'requires_python': '>=3.8', 'size': 47735, 'upload_time': '2023-06-12T04:19:43', 'upload_time_iso_8601': '2023-06-12T04:19:43.339272Z', 'url': 'https://files.pythonhosted.org/packages/18/fa/82e719efc465238383f099c08b5284b974f5002dbe12050bcbbc912366eb/prettytable-3.8.0.tar.gz', 'yanked': False, 'yanked_reason': None}], '3.9.0': [{'comment_text': '', 'digests': {'blake2b_256': '4d81316b6a55a0d1f327d04cc7b0ba9d04058cb62de6c3a4d4b0df280cbe3b0b', 'md5': '6d2b6b1678a84b10535bd47ac61b4534', 'sha256': 'a71292ab7769a5de274b146b276ce938786f56c31cf7cea88b6f3775d82fe8c8'}, 'downloads': -1, 'filename': 'prettytable-3.9.0-py3-none-any.whl', 'has_sig': False, 'md5_digest': '6d2b6b1678a84b10535bd47ac61b4534', 'packagetype': 'bdist_wheel', 'python_version': 'py3', 'requires_python': '>=3.8', 'size': 27772, 'upload_time': '2023-09-11T14:03:45', 'upload_time_iso_8601': '2023-09-11T14:03:45.582689Z', 'url': 'https://files.pythonhosted.org/packages/4d/81/316b6a55a0d1f327d04cc7b0ba9d04058cb62de6c3a4d4b0df280cbe3b0b/prettytable-3.9.0-py3-none-any.whl', 'yanked': False, 'yanked_reason': None}, {'comment_text': '', 'digests': {'blake2b_256': 'e1c05e9c4d2a643a00a6f67578ef35485173de273a4567279e4f0c200c01386b', 'md5': 'a63e319853747d83526c5435ab5223a1', 'sha256': 'f4ed94803c23073a90620b201965e5dc0bccf1760b7a7eaf3158cab8aaffdf34'}, 'downloads': -1, 'filename': 'prettytable-3.9.0.tar.gz', 'has_sig': False, 'md5_digest': 'a63e319853747d83526c5435ab5223a1', 'packagetype': 'sdist', 'python_version': 'source', 'requires_python': '>=3.8', 'size': 47874, 'upload_time': '2023-09-11T14:04:14', 'upload_time_iso_8601': '2023-09-11T14:04:14.548282Z', 'url': 'https://files.pythonhosted.org/packages/e1/c0/5e9c4d2a643a00a6f67578ef35485173de273a4567279e4f0c200c01386b/prettytable-3.9.0.tar.gz', 'yanked': False, 'yanked_reason': None}]}\n",
      "urls [{'comment_text': None, 'digests': {'blake2b_256': '9365461ab13c4d877d428d046c75576c6877381580fe3cdb8fd8231e402f5cac', 'md5': 'bd95732cf23206c6d96980c698a66c25', 'sha256': 'd4f5817a248b77ddaa25b27007566c0a6a064308d991516b61b436ffdbb4f8e9'}, 'downloads': -1, 'filename': 'prettytable-3.13.0-py3-none-any.whl', 'has_sig': False, 'md5_digest': 'bd95732cf23206c6d96980c698a66c25', 'packagetype': 'bdist_wheel', 'python_version': 'py3', 'requires_python': '>=3.9', 'size': 31871, 'upload_time': '2025-01-24T11:00:23', 'upload_time_iso_8601': '2025-01-24T11:00:23.713766Z', 'url': 'https://files.pythonhosted.org/packages/93/65/461ab13c4d877d428d046c75576c6877381580fe3cdb8fd8231e402f5cac/prettytable-3.13.0-py3-none-any.whl', 'yanked': False, 'yanked_reason': None}, {'comment_text': None, 'digests': {'blake2b_256': 'c5ebae616127eae724ff3bef04823a3eeb2633c85b769b6232af4fcc98c7c9d7', 'md5': 'c05c74135e492e5f4027aae83c602d1f', 'sha256': '30e1a097a7acb075b5c488ffe01195349b37009c2d43ca7fa8b5f6a61daace5b'}, 'downloads': -1, 'filename': 'prettytable-3.13.0.tar.gz', 'has_sig': False, 'md5_digest': 'c05c74135e492e5f4027aae83c602d1f', 'packagetype': 'sdist', 'python_version': 'source', 'requires_python': '>=3.9', 'size': 61087, 'upload_time': '2025-01-24T11:00:25', 'upload_time_iso_8601': '2025-01-24T11:00:25.977433Z', 'url': 'https://files.pythonhosted.org/packages/c5/eb/ae616127eae724ff3bef04823a3eeb2633c85b769b6232af4fcc98c7c9d7/prettytable-3.13.0.tar.gz', 'yanked': False, 'yanked_reason': None}]\n",
      "vulnerabilities []\n",
      "\n",
      "On veut récupérer le nom des auteurices du package :\n",
      "None\n",
      "\n",
      "Maintenant leur mail :\n",
      "Luke Maurits <luke@maurits.id.au>\n",
      "\n",
      "Et la dernière release :\n",
      "3.9.0\n",
      "\n",
      "Avec la date de celle-ci :\n",
      "2023-09-11T14:04:14\n"
     ]
    }
   ],
   "source": [
    "def get_package(package_name):\n",
    "    try:\n",
    "        response = httpx.get(f\"https://pypi.org/pypi/{package_name}/json\", follow_redirects=True)\n",
    "\n",
    "        if response.status_code == 404:\n",
    "            print(\"Ce package n'existe pas.\")\n",
    "            return\n",
    "\n",
    "        link = response.json()\n",
    "\n",
    "        print(\"Le dictionnaire a cette forme :\")\n",
    "        for cle, valeur in link.items():\n",
    "            print(cle, valeur)\n",
    "\n",
    "        print(\"\\nOn veut récupérer le nom des auteurices du package :\")\n",
    "        print(link[\"info\"][\"author\"])\n",
    "\n",
    "        print(\"\\nMaintenant leur mail :\")\n",
    "        print(link[\"info\"][\"author_email\"])\n",
    "\n",
    "        print(\"\\nEt la dernière release :\")\n",
    "        derniere_release = list(link[\"releases\"])[-1]\n",
    "        print(derniere_release)\n",
    "\n",
    "        print(\"\\nAvec la date de celle-ci :\")\n",
    "        upload_time = link[\"releases\"][derniere_release][-1]\n",
    "        print(upload_time[\"upload_time\"])\n",
    "\n",
    "    except httpx.RequestError as e:\n",
    "        print(f\"Erreur lors de la requête : {e}\")\n",
    "\n",
    "    except Exception as e:\n",
    "        print(f\"Une erreur inattendue s'est produite : {e}\")\n",
    "\n",
    "get_package(\"prettytable\")\n"
   ]
  },
  {
   "cell_type": "markdown",
   "id": "906b494b",
   "metadata": {
    "id": "906b494b"
   },
   "source": [
    "### Zenodo\n",
    "\n",
    "En utilisant l'[API de Zenodo](https://developers.zenodo.org/#rest-api), écrire un script qui prend\n",
    "en argument un nom de fichier, un titre et un nom d'auteurice ; fait un dépôt sur la sandbox de\n",
    "Zenodo ; et afficher un lien vers ce nouveau dépôt. Il vous faudra créer un compte pour obtenir un\n",
    "*access token*."
   ]
  },
  {
   "cell_type": "markdown",
   "id": "dI-NVxViS1sp",
   "metadata": {
    "id": "dI-NVxViS1sp"
   },
   "source": [
    "Mon token d'accès : SfqVjLfEgsgqF5qArwKkCO2gjxFqd4BtAsZMsHRyPhXWiRwJuXK0oLb6W2Y1"
   ]
  },
  {
   "cell_type": "code",
   "execution_count": 36,
   "id": "cee20e99",
   "metadata": {},
   "outputs": [],
   "source": [
    "!GET /api/deposit/depositions?access_token=SfqVjLfEgsgqF5qArwKkCO2gjxFqd4BtAsZMsHRyPhXWiRwJuXK0oLb6W2Y1"
   ]
  },
  {
   "cell_type": "markdown",
   "id": "705a8d18",
   "metadata": {
    "id": "705a8d18"
   },
   "source": [
    "### Philosophie\n",
    "\n",
    "<!-- LTeX: language=en-GB -->\n",
    "> Wikipedia trivia: if you take any article, click on the first link in the article text not in\n",
    "> parentheses or italics, **and then repeat**, you will eventually end up at \"Philosophy\". ([xkcd\n",
    "> #903](https://xkcd.com/903/))\n",
    "<!-- LTeX: language=fr -->\n",
    "\n",
    "- Vérifiez sur une page ou deux si c'est vrai\n",
    "- Écrivez un script qui prend en argument de ligne de commande un nom de page Wikipédia (en anglais,\n",
    "  sauf si vous aimez l'aventure) et donne le nombre de sauts nécessaire pour arriver à la page\n",
    "  *Philosophy* ou une erreur si la page en question n'existe pas.\n",
    "  - Utilisez l'[API](https://www.mediawiki.org/wiki/API:Get_the_contents_of_a_page) de Wikipédia\n",
    "    pour obtenir le contenu des pages.\n",
    "  - Vous pouvez parser le wikitexte à la main ou utiliser\n",
    "    [wikitextparser](https://pypi.org/project/wikitextparser/)\n",
    "- Si vous êtes très déterminé⋅es, faites un script qui prend en entrée des pages de Wikipédia et\n",
    "  produit le graphe (orienté) des pages obtenues en suivant à chaque fois le premier lien de chaque\n",
    "  page, et ce jusqu'à retomber sur une page déjà visitée. On pourra par exemple utiliser\n",
    "  [NetworkX](https://networkx.org/documentation/latest/reference/drawing.html), un visualiseur\n",
    "  interactif comme [pyvis](https://pyvis.readthedocs.io/en/latest/tutorial.html), [un *wrapper* de\n",
    "  graphviz](https://graphviz.readthedocs.io) ou encore générer directement des fichiers dot.\n",
    "\n"
   ]
  }
 ],
 "metadata": {
  "colab": {
   "provenance": []
  },
  "jupytext": {
   "custom_cell_magics": "kql",
   "formats": "ipynb,md",
   "split_at_heading": true
  },
  "kernelspec": {
   "display_name": "interfaces-web",
   "language": "python",
   "name": "python3"
  },
  "language_info": {
   "codemirror_mode": {
    "name": "ipython",
    "version": 3
   },
   "file_extension": ".py",
   "mimetype": "text/x-python",
   "name": "python",
   "nbconvert_exporter": "python",
   "pygments_lexer": "ipython3",
   "version": "3.12.3"
  }
 },
 "nbformat": 4,
 "nbformat_minor": 5
}
